{
 "cells": [
  {
   "cell_type": "code",
   "execution_count": 1,
   "id": "033f1ec4-e3e8-4f4c-8dd0-2b1545a255c0",
   "metadata": {},
   "outputs": [],
   "source": [
    "import pandas as pd\n",
    "import numpy as np\n",
    "\n",
    "import torch\n",
    "import torch.nn as nn\n",
    "import torch.nn.functional as F\n",
    "\n",
    "import fastai.tabular.all as ft\n",
    "\n",
    "import random\n",
    "from math import sin, cos\n",
    "from agregar_coordenadas import *"
   ]
  },
  {
   "cell_type": "markdown",
   "id": "fcf8debb-8d06-4257-a628-ee10bcdc2b10",
   "metadata": {},
   "source": [
    "## crear datos artificiales (ignorar al final)"
   ]
  },
  {
   "cell_type": "markdown",
   "id": "c061ff45-1d6a-4702-85c6-1363ab558b04",
   "metadata": {},
   "source": [
    "n = 2000\n",
    "A = np.random.randn(n)*4\n",
    "B = [random.choice([\"sin\",\"cos\"]) for _ in range(n)]\n",
    "x = [(sin(a) if b == 'sin' else cos(a))+0.2*random.gauss(0,1) for a,b in zip(A,B)]\n",
    "y = [(a if b == 'sin' else a+1)+0.2*random.gauss(0,1) for a,b in zip(A,B)]\n",
    "biome = [random.choice([\"frio\",\"caliente\", \"templado\"]) for i in range(n)]\n",
    "dumb = [random.choice([\"ss\",\"q\"]) for i in range(n)]\n",
    "for (i,bio),a, in zip(enumerate(biome),A):\n",
    "    if a > 0:\n",
    "        biome[i] = random.choice([\"frio\",\"frio\",biome[i]])\n",
    "    else:\n",
    "        biome[i] = random.choice([\"caliente\",\"caliente\",biome[i]])\n",
    "        \n",
    "DF = {'A': A, 'B': B, 'x': x, 'y': y, 'biome': biome, 'dumb':dumb}\n"
   ]
  },
  {
   "cell_type": "markdown",
   "id": "54c20a1d-4263-401b-ad86-6258674bf4ed",
   "metadata": {},
   "source": [
    "df = pd.DataFrame(DF)"
   ]
  },
  {
   "cell_type": "markdown",
   "id": "efe154c0-7589-4043-befc-13abba966b82",
   "metadata": {},
   "source": [
    "# Cargar datos\n",
    "\n",
    "Hay que escribir columnas categóricas, continuas, y-categóricas y y-contínuas."
   ]
  },
  {
   "cell_type": "code",
   "execution_count": 2,
   "id": "06dfbcea-14bc-4d0e-93ba-73ea4c6ac7d4",
   "metadata": {},
   "outputs": [],
   "source": [
    "from data import *\n",
    "from loss_func import *"
   ]
  },
  {
   "cell_type": "code",
   "execution_count": 25,
   "id": "249a1a58-8845-4ccd-8cb8-5b7d7104b493",
   "metadata": {},
   "outputs": [],
   "source": [
    "#df = pd.read_csv(\"data/EMPcomplete_environmental.csv\")\n",
    "df = pd.read_csv(\"data/merged_complete_environmental.csv\")"
   ]
  },
  {
   "cell_type": "code",
   "execution_count": 26,
   "id": "d11b1eec-64fb-4b87-981d-f7d79a128aae",
   "metadata": {},
   "outputs": [
    {
     "data": {
      "text/plain": [
       "Index(['X', 'Latitude', 'Longitude', 'k__Bacteria', 'k__Archaea',\n",
       "       'p__Verrucomicrobia', 'p__Proteobacteria', 'p__Bacteroidetes',\n",
       "       'p__Firmicutes', 'p__Actinobacteria',\n",
       "       ...\n",
       "       'BIO12', 'BIO13', 'BIO14', 'BIO15', 'BIO16', 'BIO17', 'BIO18', 'BIO19',\n",
       "       'BIOME', 'ECONAME'],\n",
       "      dtype='object', length=929)"
      ]
     },
     "execution_count": 26,
     "metadata": {},
     "output_type": "execute_result"
    }
   ],
   "source": [
    "df.columns"
   ]
  },
  {
   "cell_type": "code",
   "execution_count": 27,
   "id": "4ccb4478-d6ca-4c92-ac1b-fec9826e4239",
   "metadata": {},
   "outputs": [],
   "source": [
    "df.dropna(inplace=True)"
   ]
  },
  {
   "cell_type": "code",
   "execution_count": 28,
   "id": "143a282d-cfac-48fa-a511-cbf0bc50dd50",
   "metadata": {},
   "outputs": [],
   "source": [
    "df.reset_index(inplace=True)"
   ]
  },
  {
   "cell_type": "code",
   "execution_count": 29,
   "id": "e079dd4b-0244-4cc2-b8d1-c08de568e8df",
   "metadata": {},
   "outputs": [
    {
     "data": {
      "text/plain": [
       "908"
      ]
     },
     "execution_count": 29,
     "metadata": {},
     "output_type": "execute_result"
    }
   ],
   "source": [
    "start_env = list(df.columns).index(\"Elevation\"); start_env"
   ]
  },
  {
   "cell_type": "code",
   "execution_count": 30,
   "id": "7de5a9bc-341a-4f72-bd51-1664da641e77",
   "metadata": {},
   "outputs": [],
   "source": [
    "env_cols = [df.columns[i] for i in range(start_env,len(df.columns))]"
   ]
  },
  {
   "cell_type": "code",
   "execution_count": 31,
   "id": "b54cd560-612b-4b70-aaf1-048b0d4de766",
   "metadata": {
    "tags": []
   },
   "outputs": [],
   "source": [
    "xyz = esfericas2cartesianas(df.Longitude,df.Latitude)"
   ]
  },
  {
   "cell_type": "code",
   "execution_count": 32,
   "id": "060bd332-85ea-4502-88aa-4a8eb76f8e73",
   "metadata": {},
   "outputs": [],
   "source": [
    "df = pd.concat([df,xyz],axis=1).copy()"
   ]
  },
  {
   "cell_type": "code",
   "execution_count": null,
   "id": "ceeaec73-c383-4aa0-901b-2f9fd2e59863",
   "metadata": {},
   "outputs": [],
   "source": []
  },
  {
   "cell_type": "code",
   "execution_count": 33,
   "id": "f17b2eff-ca5d-439a-be89-ba9d18f483c1",
   "metadata": {},
   "outputs": [],
   "source": [
    "cat_names = []\n",
    "cont_names = list(df.columns[3:start_env])\n",
    "y_cont_names = [\"x\",\"y\",\"z\"] + env_cols[:-2]\n",
    "y_cat_names = env_cols[-2:]"
   ]
  },
  {
   "cell_type": "code",
   "execution_count": 60,
   "id": "c5bc1445-2d19-41f3-865b-2e0b1ae788d1",
   "metadata": {
    "collapsed": true,
    "jupyter": {
     "outputs_hidden": true
    },
    "tags": []
   },
   "outputs": [
    {
     "data": {
      "text/plain": [
       "['x',\n",
       " 'y',\n",
       " 'z',\n",
       " 'Elevation',\n",
       " 'BIO1',\n",
       " 'BIO2',\n",
       " 'BIO3',\n",
       " 'BIO4',\n",
       " 'BIO5',\n",
       " 'BIO6',\n",
       " 'BIO7',\n",
       " 'BIO8',\n",
       " 'BIO9',\n",
       " 'BIO10',\n",
       " 'BIO11',\n",
       " 'BIO12',\n",
       " 'BIO13',\n",
       " 'BIO14',\n",
       " 'BIO15',\n",
       " 'BIO16',\n",
       " 'BIO17',\n",
       " 'BIO18',\n",
       " 'BIO19']"
      ]
     },
     "execution_count": 60,
     "metadata": {},
     "output_type": "execute_result"
    }
   ],
   "source": [
    "y_cont_names"
   ]
  },
  {
   "cell_type": "markdown",
   "id": "69388066-4cba-48b5-87f6-89cc1e49690b",
   "metadata": {},
   "source": [
    "# Preparar datos para mugre fastai"
   ]
  },
  {
   "cell_type": "code",
   "execution_count": 34,
   "id": "f1ac113f-e9a0-4ec6-83f1-6d842a9ea7d9",
   "metadata": {},
   "outputs": [],
   "source": [
    "Yproc = Preprocess(df,y_cat_names,y_cont_names)"
   ]
  },
  {
   "cell_type": "code",
   "execution_count": null,
   "id": "06eeaed8-25cd-4397-8b5b-3b53c9b4c6cf",
   "metadata": {},
   "outputs": [],
   "source": []
  },
  {
   "cell_type": "code",
   "execution_count": 35,
   "id": "44361f37-3d11-4f5b-93a2-91b89b898c46",
   "metadata": {},
   "outputs": [],
   "source": [
    "loss_func = LossFunc(df,y_cat_names, y_cont_names,Yproc)\n",
    "#metrics = ([loss_func.accuracy(i) for i,_ in enumerate(y_cat_names)] + \n",
    "#                         [loss_func.mse, loss_func.l1, loss_func.catloss, loss_func.contloss] +\n",
    "#                         [loss_func.distance_in_km])\n",
    "metrics = ([loss_func.mse, loss_func.l1, loss_func.catloss, loss_func.contloss] +\n",
    "                         [loss_func.distance_in_km])"
   ]
  },
  {
   "cell_type": "markdown",
   "id": "7ab5a2f2-1a39-478e-81ad-2775246d732d",
   "metadata": {},
   "source": [
    "learn = ft.tabular_learner(dls,\n",
    "           layers = [],\n",
    "           opt_func = ft.ranger,\n",
    "           cbs=[ft.GradientClip],\n",
    "           loss_func = loss_func,\n",
    "           metrics= ([loss_func.accuracy(i) for i,_ in enumerate(y_cat_names)] + \n",
    "                     [loss_func.mse, loss_func.l1, loss_func.catloss, loss_func.contloss] +\n",
    "                     [loss_func.distance_in_km]\n",
    "                    )\n",
    "                           \n",
    "    )"
   ]
  },
  {
   "cell_type": "markdown",
   "id": "43f1dcd6-07c8-4d55-a5f8-afd052465e5d",
   "metadata": {},
   "source": [
    "nin = learn.model.layers[-1][0].in_features\n",
    "nout = Yproc.y_len()+len(y_cont_names)\n",
    "\n",
    "learn.model.layers[-1] = nn.Linear(nin, nout)"
   ]
  },
  {
   "cell_type": "code",
   "execution_count": 36,
   "id": "984ea137-4368-485f-8873-65b93eabfa5c",
   "metadata": {},
   "outputs": [],
   "source": [
    "from layers import *\n",
    "from model import *"
   ]
  },
  {
   "cell_type": "code",
   "execution_count": 53,
   "id": "8af0db82-7297-4dec-b8de-8871e35bee94",
   "metadata": {},
   "outputs": [],
   "source": [
    "LEARNERS=[]\n",
    "def objective(trial: optuna.trial):\n",
    "    \n",
    "    print(\"\\n\\nStarting trial with the following properties: \")\n",
    "    \n",
    "    D = trial.user_attrs\n",
    "    \n",
    "    for key, val in D.items():\n",
    "        print(f\"{key}: {val}\")\n",
    "    print(\"\\t\\t******** STARTING \")\n",
    "    values = D['vals'] if 'vals' in D else []\n",
    "    \n",
    "    NUM_TRIES = 6\n",
    "    while len(values) < NUM_TRIES:\n",
    "        seed = random.randint(0,1000000)\n",
    "        \n",
    "        src = ft.TabularPandas(df.copy(),\n",
    "                       procs=[ft.Normalize],\n",
    "                       cat_names = cat_names,\n",
    "                       cont_names = cont_names,\n",
    "                       y_names = y_cat_names + y_cont_names,\n",
    "                       splits = ft.RandomSplitter(0.05,seed=seed)(ft.range_of(df))\n",
    "                       )\n",
    "        \n",
    "        dls = src.dataloaders(bs=trial.suggest_categorical('bs',[256,384,512]))\n",
    "        torch.manual_seed(seed)\n",
    "        learn = ft.tabular_learner(dls,\n",
    "               layers = [],\n",
    "               opt_func = ft.ranger,\n",
    "               #cbs=[ft.GradientClip],\n",
    "               loss_func = loss_func,\n",
    "               metrics= metrics\n",
    "        )\n",
    "        \n",
    "        nin = learn.model.layers[-1][0].in_features\n",
    "        nout = Yproc.y_len()+len(y_cont_names)\n",
    "\n",
    "        learn.model.layers[-1][0] = nn.Linear(nin, nout)\n",
    "        \n",
    "        improve_model_with_trial(learn.model,trial)\n",
    "        LEARNERS.append(learn)\n",
    "        with learn.no_logging():\n",
    "            learn.fit_one_cycle(trial.suggest_int('epochs',50,250),\n",
    "                                trial.suggest_float('lr',1e-3,1e-1,log=True),\n",
    "                                div=trial.suggest_float('div',0.7,1.3),\n",
    "                                div_final=trial.suggest_float('div_final',10,100000,log=True),\n",
    "                                pct_start=trial.suggest_float('pct_start',0.1,0.8)\n",
    "                               );\n",
    "        idx = learn.recorder.metric_names.index('distance_in_km')\n",
    "        values.append(learn.recorder.log[idx])\n",
    "        \n",
    "        bold_open = \"\\033[1;3m\"\n",
    "        bold_close = \"\\033[0m\"\n",
    "        print(f\"\\tFinished attempt with value: {bold_open}{values[-1]}{bold_close}\")\n",
    "        learn.export(f\"models/learn_{values[-1]:.3f}_{seed}.pkg\")\n",
    "        \n",
    "        \n",
    "    trial.set_user_attr('vals',values)\n",
    "    name = trial.user_attrs['name'] if 'name' in trial.user_attrs.keys() else 'unnamed'\n",
    "    \n",
    "    return mean(values)"
   ]
  },
  {
   "cell_type": "code",
   "execution_count": 54,
   "id": "426607f6-3a28-451b-aab0-7926afab1984",
   "metadata": {},
   "outputs": [],
   "source": [
    "def get_params(t):\n",
    "    if len(t.params) == 0: return t.system_attrs['fixed_params']\n",
    "    return t.params\n",
    "    #return {k:rround(v) for k,v in t.params.items()}"
   ]
  },
  {
   "cell_type": "code",
   "execution_count": 55,
   "id": "093c0564-a5b7-487b-927a-10e526a8c445",
   "metadata": {},
   "outputs": [],
   "source": [
    "study = torch.load(\"studies/r.pth\")"
   ]
  },
  {
   "cell_type": "code",
   "execution_count": 56,
   "id": "0179cfdf-e57e-4397-8441-4acc1ac2a658",
   "metadata": {},
   "outputs": [],
   "source": [
    "def reset_study(study):\n",
    "    r = optuna.create_study()\n",
    "    for t in sorted(study.trials,key=lambda x: mean(x.user_attrs['vals'])):\n",
    "        r.enqueue_trial(params=get_params(t),user_attrs=t.user_attrs)\n",
    "    return r"
   ]
  },
  {
   "cell_type": "code",
   "execution_count": 57,
   "id": "989decfc-b417-49f4-9d83-a20f52d43e1e",
   "metadata": {},
   "outputs": [
    {
     "name": "stderr",
     "output_type": "stream",
     "text": [
      "\u001b[32m[I 2022-11-20 15:35:36,354]\u001b[0m A new study created in memory with name: no-name-a2f31a3c-1810-4613-b215-12f0656d96ae\u001b[0m\n"
     ]
    }
   ],
   "source": [
    "r = reset_study(study)"
   ]
  },
  {
   "cell_type": "markdown",
   "id": "3aa6bd1a-1c8f-467b-a4e5-d89ab9eb1089",
   "metadata": {},
   "source": [
    "r = optuna.create_study()\n",
    "r.enqueue_trial(params={'epochs':1})"
   ]
  },
  {
   "cell_type": "code",
   "execution_count": 58,
   "id": "08889847-fb59-4c09-a6b8-33fab05ee8b0",
   "metadata": {
    "collapsed": true,
    "jupyter": {
     "outputs_hidden": true
    },
    "tags": []
   },
   "outputs": [
    {
     "name": "stdout",
     "output_type": "stream",
     "text": [
      "\n",
      "\n",
      "Starting trial with the following properties: \n",
      "vals: [369.06334146560755, 287.7297956525434, 64.44503614967432, 305.5906897337076]\n",
      "\t\t******** STARTING \n"
     ]
    },
    {
     "data": {
      "text/html": [
       "\n",
       "<style>\n",
       "    /* Turns off some styling */\n",
       "    progress {\n",
       "        /* gets rid of default border in Firefox and Opera. */\n",
       "        border: none;\n",
       "        /* Needs to be in here for Safari polyfill so background images work as expected. */\n",
       "        background-size: auto;\n",
       "    }\n",
       "    progress:not([value]), progress:not([value])::-webkit-progress-bar {\n",
       "        background: repeating-linear-gradient(45deg, #7e7e7e, #7e7e7e 10px, #5c5c5c 10px, #5c5c5c 20px);\n",
       "    }\n",
       "    .progress-bar-interrupted, .progress-bar-interrupted::-webkit-progress-bar {\n",
       "        background: #F44336;\n",
       "    }\n",
       "</style>\n"
      ],
      "text/plain": [
       "<IPython.core.display.HTML object>"
      ]
     },
     "metadata": {},
     "output_type": "display_data"
    },
    {
     "data": {
      "text/html": [],
      "text/plain": [
       "<IPython.core.display.HTML object>"
      ]
     },
     "metadata": {},
     "output_type": "display_data"
    },
    {
     "name": "stdout",
     "output_type": "stream",
     "text": [
      "\tFinished attempt with value: \u001b[1;3m489.15351651665753\u001b[0m\n"
     ]
    },
    {
     "data": {
      "text/html": [
       "\n",
       "<style>\n",
       "    /* Turns off some styling */\n",
       "    progress {\n",
       "        /* gets rid of default border in Firefox and Opera. */\n",
       "        border: none;\n",
       "        /* Needs to be in here for Safari polyfill so background images work as expected. */\n",
       "        background-size: auto;\n",
       "    }\n",
       "    progress:not([value]), progress:not([value])::-webkit-progress-bar {\n",
       "        background: repeating-linear-gradient(45deg, #7e7e7e, #7e7e7e 10px, #5c5c5c 10px, #5c5c5c 20px);\n",
       "    }\n",
       "    .progress-bar-interrupted, .progress-bar-interrupted::-webkit-progress-bar {\n",
       "        background: #F44336;\n",
       "    }\n",
       "</style>\n"
      ],
      "text/plain": [
       "<IPython.core.display.HTML object>"
      ]
     },
     "metadata": {},
     "output_type": "display_data"
    },
    {
     "data": {
      "text/html": [],
      "text/plain": [
       "<IPython.core.display.HTML object>"
      ]
     },
     "metadata": {},
     "output_type": "display_data"
    },
    {
     "name": "stderr",
     "output_type": "stream",
     "text": [
      "\u001b[32m[I 2022-11-20 15:38:15,436]\u001b[0m Trial 0 finished with value: 387.24599221384415 and parameters: {'bs': 256, 'use_cont_dropout': False, 'noiser_value': 0.10653428695810746, 'blocks': 3, 'f0': 128, 'f1': 128, 'f2': 896, 'num_res_f0': 2, 'num_res_f1': 2, 'num_res_f2': 2, 'epochs': 231, 'lr': 0.008545396307486939, 'div': 1.1763653047785234, 'div_final': 49.86013167685375, 'pct_start': 0.6127014781795439}. Best is trial 0 with value: 387.24599221384415.\u001b[0m\n"
     ]
    },
    {
     "name": "stdout",
     "output_type": "stream",
     "text": [
      "\tFinished attempt with value: \u001b[1;3m807.4935737648746\u001b[0m\n",
      "\n",
      "\n",
      "Starting trial with the following properties: \n",
      "vals: [280.86869186822923, 368.5705447692901, 306.8337928236496, 370.77837587477916]\n",
      "\t\t******** STARTING \n"
     ]
    },
    {
     "data": {
      "text/html": [
       "\n",
       "<style>\n",
       "    /* Turns off some styling */\n",
       "    progress {\n",
       "        /* gets rid of default border in Firefox and Opera. */\n",
       "        border: none;\n",
       "        /* Needs to be in here for Safari polyfill so background images work as expected. */\n",
       "        background-size: auto;\n",
       "    }\n",
       "    progress:not([value]), progress:not([value])::-webkit-progress-bar {\n",
       "        background: repeating-linear-gradient(45deg, #7e7e7e, #7e7e7e 10px, #5c5c5c 10px, #5c5c5c 20px);\n",
       "    }\n",
       "    .progress-bar-interrupted, .progress-bar-interrupted::-webkit-progress-bar {\n",
       "        background: #F44336;\n",
       "    }\n",
       "</style>\n"
      ],
      "text/plain": [
       "<IPython.core.display.HTML object>"
      ]
     },
     "metadata": {},
     "output_type": "display_data"
    },
    {
     "data": {
      "text/html": [],
      "text/plain": [
       "<IPython.core.display.HTML object>"
      ]
     },
     "metadata": {},
     "output_type": "display_data"
    },
    {
     "name": "stdout",
     "output_type": "stream",
     "text": [
      "\tFinished attempt with value: \u001b[1;3m853.3374031212026\u001b[0m\n"
     ]
    },
    {
     "data": {
      "text/html": [
       "\n",
       "<style>\n",
       "    /* Turns off some styling */\n",
       "    progress {\n",
       "        /* gets rid of default border in Firefox and Opera. */\n",
       "        border: none;\n",
       "        /* Needs to be in here for Safari polyfill so background images work as expected. */\n",
       "        background-size: auto;\n",
       "    }\n",
       "    progress:not([value]), progress:not([value])::-webkit-progress-bar {\n",
       "        background: repeating-linear-gradient(45deg, #7e7e7e, #7e7e7e 10px, #5c5c5c 10px, #5c5c5c 20px);\n",
       "    }\n",
       "    .progress-bar-interrupted, .progress-bar-interrupted::-webkit-progress-bar {\n",
       "        background: #F44336;\n",
       "    }\n",
       "</style>\n"
      ],
      "text/plain": [
       "<IPython.core.display.HTML object>"
      ]
     },
     "metadata": {},
     "output_type": "display_data"
    },
    {
     "data": {
      "text/html": [],
      "text/plain": [
       "<IPython.core.display.HTML object>"
      ]
     },
     "metadata": {},
     "output_type": "display_data"
    },
    {
     "name": "stderr",
     "output_type": "stream",
     "text": [
      "\u001b[32m[I 2022-11-20 15:40:01,267]\u001b[0m Trial 1 finished with value: 405.4168345603568 and parameters: {'bs': 256, 'use_cont_dropout': False, 'noiser_value': 0.23898215786338062, 'blocks': 2, 'f0': 768, 'f1': 896, 'num_res_f0': 1, 'num_res_f1': 3, 'epochs': 226, 'lr': 0.010720037656745826, 'div': 1.0887009940285164, 'div_final': 550.3769279008768, 'pct_start': 0.6127695886966332}. Best is trial 0 with value: 387.24599221384415.\u001b[0m\n"
     ]
    },
    {
     "name": "stdout",
     "output_type": "stream",
     "text": [
      "\tFinished attempt with value: \u001b[1;3m252.1121989049898\u001b[0m\n",
      "\n",
      "\n",
      "Starting trial with the following properties: \n",
      "vals: [296.24580899369494, 245.75167353204913, 380.03283769463195, 467.5398331151896]\n",
      "\t\t******** STARTING \n"
     ]
    },
    {
     "data": {
      "text/html": [
       "\n",
       "<style>\n",
       "    /* Turns off some styling */\n",
       "    progress {\n",
       "        /* gets rid of default border in Firefox and Opera. */\n",
       "        border: none;\n",
       "        /* Needs to be in here for Safari polyfill so background images work as expected. */\n",
       "        background-size: auto;\n",
       "    }\n",
       "    progress:not([value]), progress:not([value])::-webkit-progress-bar {\n",
       "        background: repeating-linear-gradient(45deg, #7e7e7e, #7e7e7e 10px, #5c5c5c 10px, #5c5c5c 20px);\n",
       "    }\n",
       "    .progress-bar-interrupted, .progress-bar-interrupted::-webkit-progress-bar {\n",
       "        background: #F44336;\n",
       "    }\n",
       "</style>\n"
      ],
      "text/plain": [
       "<IPython.core.display.HTML object>"
      ]
     },
     "metadata": {},
     "output_type": "display_data"
    },
    {
     "data": {
      "text/html": [
       "\n",
       "    <div>\n",
       "      <progress value='131' class='' max='192' style='width:300px; height:20px; vertical-align: middle;'></progress>\n",
       "      68.23% [131/192 00:21&lt;00:09]\n",
       "    </div>\n",
       "    \n",
       "\n",
       "\n",
       "    <div>\n",
       "      <progress value='1' class='' max='7' style='width:300px; height:20px; vertical-align: middle;'></progress>\n",
       "      14.29% [1/7 00:00&lt;00:00]\n",
       "    </div>\n",
       "    "
      ],
      "text/plain": [
       "<IPython.core.display.HTML object>"
      ]
     },
     "metadata": {},
     "output_type": "display_data"
    },
    {
     "name": "stderr",
     "output_type": "stream",
     "text": [
      "\u001b[33m[W 2022-11-20 15:40:23,559]\u001b[0m Trial 2 failed because of the following error: KeyboardInterrupt()\u001b[0m\n",
      "Traceback (most recent call last):\n",
      "  File \"/home/neuralito/miniconda3/envs/fastai/lib/python3.10/site-packages/optuna/study/_optimize.py\", line 196, in _run_trial\n",
      "    value_or_values = func(trial)\n",
      "  File \"/tmp/ipykernel_998026/1024862909.py\", line 43, in objective\n",
      "    learn.fit_one_cycle(trial.suggest_int('epochs',50,250),\n",
      "  File \"/home/neuralito/miniconda3/envs/fastai/lib/python3.10/site-packages/fastai/callback/schedule.py\", line 119, in fit_one_cycle\n",
      "    self.fit(n_epoch, cbs=ParamScheduler(scheds)+L(cbs), reset_opt=reset_opt, wd=wd, start_epoch=start_epoch)\n",
      "  File \"/home/neuralito/miniconda3/envs/fastai/lib/python3.10/site-packages/fastai/learner.py\", line 256, in fit\n",
      "    self._with_events(self._do_fit, 'fit', CancelFitException, self._end_cleanup)\n",
      "  File \"/home/neuralito/miniconda3/envs/fastai/lib/python3.10/site-packages/fastai/learner.py\", line 193, in _with_events\n",
      "    try: self(f'before_{event_type}');  f()\n",
      "  File \"/home/neuralito/miniconda3/envs/fastai/lib/python3.10/site-packages/fastai/learner.py\", line 245, in _do_fit\n",
      "    self._with_events(self._do_epoch, 'epoch', CancelEpochException)\n",
      "  File \"/home/neuralito/miniconda3/envs/fastai/lib/python3.10/site-packages/fastai/learner.py\", line 193, in _with_events\n",
      "    try: self(f'before_{event_type}');  f()\n",
      "  File \"/home/neuralito/miniconda3/envs/fastai/lib/python3.10/site-packages/fastai/learner.py\", line 239, in _do_epoch\n",
      "    self._do_epoch_train()\n",
      "  File \"/home/neuralito/miniconda3/envs/fastai/lib/python3.10/site-packages/fastai/learner.py\", line 231, in _do_epoch_train\n",
      "    self._with_events(self.all_batches, 'train', CancelTrainException)\n",
      "  File \"/home/neuralito/miniconda3/envs/fastai/lib/python3.10/site-packages/fastai/learner.py\", line 193, in _with_events\n",
      "    try: self(f'before_{event_type}');  f()\n",
      "  File \"/home/neuralito/miniconda3/envs/fastai/lib/python3.10/site-packages/fastai/learner.py\", line 199, in all_batches\n",
      "    for o in enumerate(self.dl): self.one_batch(*o)\n",
      "  File \"/home/neuralito/miniconda3/envs/fastai/lib/python3.10/site-packages/fastai/learner.py\", line 227, in one_batch\n",
      "    self._with_events(self._do_one_batch, 'batch', CancelBatchException)\n",
      "  File \"/home/neuralito/miniconda3/envs/fastai/lib/python3.10/site-packages/fastai/learner.py\", line 193, in _with_events\n",
      "    try: self(f'before_{event_type}');  f()\n",
      "  File \"/home/neuralito/miniconda3/envs/fastai/lib/python3.10/site-packages/fastai/learner.py\", line 205, in _do_one_batch\n",
      "    self.pred = self.model(*self.xb)\n",
      "  File \"/home/neuralito/miniconda3/envs/fastai/lib/python3.10/site-packages/torch/nn/modules/module.py\", line 1190, in _call_impl\n",
      "    return forward_call(*input, **kwargs)\n",
      "  File \"/home/neuralito/miniconda3/envs/fastai/lib/python3.10/site-packages/fastai/tabular/model.py\", line 73, in forward\n",
      "    return self.layers(x)\n",
      "  File \"/home/neuralito/miniconda3/envs/fastai/lib/python3.10/site-packages/torch/nn/modules/module.py\", line 1190, in _call_impl\n",
      "    return forward_call(*input, **kwargs)\n",
      "  File \"/home/neuralito/miniconda3/envs/fastai/lib/python3.10/site-packages/torch/nn/modules/container.py\", line 204, in forward\n",
      "    input = module(input)\n",
      "  File \"/home/neuralito/miniconda3/envs/fastai/lib/python3.10/site-packages/torch/nn/modules/module.py\", line 1190, in _call_impl\n",
      "    return forward_call(*input, **kwargs)\n",
      "  File \"/home/neuralito/alumnos/Hackaton/layers.py\", line 33, in forward\n",
      "    return x + self.res(x)\n",
      "  File \"/home/neuralito/miniconda3/envs/fastai/lib/python3.10/site-packages/torch/nn/modules/module.py\", line 1190, in _call_impl\n",
      "    return forward_call(*input, **kwargs)\n",
      "  File \"/home/neuralito/miniconda3/envs/fastai/lib/python3.10/site-packages/torch/nn/modules/container.py\", line 204, in forward\n",
      "    input = module(input)\n",
      "  File \"/home/neuralito/miniconda3/envs/fastai/lib/python3.10/site-packages/torch/nn/modules/module.py\", line 1190, in _call_impl\n",
      "    return forward_call(*input, **kwargs)\n",
      "  File \"/home/neuralito/miniconda3/envs/fastai/lib/python3.10/site-packages/torch/nn/modules/linear.py\", line 114, in forward\n",
      "    return F.linear(input, self.weight, self.bias)\n",
      "KeyboardInterrupt\n"
     ]
    },
    {
     "ename": "KeyboardInterrupt",
     "evalue": "",
     "output_type": "error",
     "traceback": [
      "\u001b[0;31m---------------------------------------------------------------------------\u001b[0m",
      "\u001b[0;31mKeyboardInterrupt\u001b[0m                         Traceback (most recent call last)",
      "Cell \u001b[0;32mIn [58], line 1\u001b[0m\n\u001b[0;32m----> 1\u001b[0m \u001b[43mr\u001b[49m\u001b[38;5;241;43m.\u001b[39;49m\u001b[43moptimize\u001b[49m\u001b[43m(\u001b[49m\u001b[43mobjective\u001b[49m\u001b[43m,\u001b[49m\u001b[43mn_trials\u001b[49m\u001b[38;5;241;43m=\u001b[39;49m\u001b[38;5;241;43m7\u001b[39;49m\u001b[43m)\u001b[49m\n",
      "File \u001b[0;32m~/miniconda3/envs/fastai/lib/python3.10/site-packages/optuna/study/study.py:419\u001b[0m, in \u001b[0;36mStudy.optimize\u001b[0;34m(self, func, n_trials, timeout, n_jobs, catch, callbacks, gc_after_trial, show_progress_bar)\u001b[0m\n\u001b[1;32m    315\u001b[0m \u001b[38;5;28;01mdef\u001b[39;00m \u001b[38;5;21moptimize\u001b[39m(\n\u001b[1;32m    316\u001b[0m     \u001b[38;5;28mself\u001b[39m,\n\u001b[1;32m    317\u001b[0m     func: ObjectiveFuncType,\n\u001b[0;32m   (...)\u001b[0m\n\u001b[1;32m    324\u001b[0m     show_progress_bar: \u001b[38;5;28mbool\u001b[39m \u001b[38;5;241m=\u001b[39m \u001b[38;5;28;01mFalse\u001b[39;00m,\n\u001b[1;32m    325\u001b[0m ) \u001b[38;5;241m-\u001b[39m\u001b[38;5;241m>\u001b[39m \u001b[38;5;28;01mNone\u001b[39;00m:\n\u001b[1;32m    326\u001b[0m     \u001b[38;5;124;03m\"\"\"Optimize an objective function.\u001b[39;00m\n\u001b[1;32m    327\u001b[0m \n\u001b[1;32m    328\u001b[0m \u001b[38;5;124;03m    Optimization is done by choosing a suitable set of hyperparameter values from a given\u001b[39;00m\n\u001b[0;32m   (...)\u001b[0m\n\u001b[1;32m    416\u001b[0m \u001b[38;5;124;03m            If nested invocation of this method occurs.\u001b[39;00m\n\u001b[1;32m    417\u001b[0m \u001b[38;5;124;03m    \"\"\"\u001b[39;00m\n\u001b[0;32m--> 419\u001b[0m     \u001b[43m_optimize\u001b[49m\u001b[43m(\u001b[49m\n\u001b[1;32m    420\u001b[0m \u001b[43m        \u001b[49m\u001b[43mstudy\u001b[49m\u001b[38;5;241;43m=\u001b[39;49m\u001b[38;5;28;43mself\u001b[39;49m\u001b[43m,\u001b[49m\n\u001b[1;32m    421\u001b[0m \u001b[43m        \u001b[49m\u001b[43mfunc\u001b[49m\u001b[38;5;241;43m=\u001b[39;49m\u001b[43mfunc\u001b[49m\u001b[43m,\u001b[49m\n\u001b[1;32m    422\u001b[0m \u001b[43m        \u001b[49m\u001b[43mn_trials\u001b[49m\u001b[38;5;241;43m=\u001b[39;49m\u001b[43mn_trials\u001b[49m\u001b[43m,\u001b[49m\n\u001b[1;32m    423\u001b[0m \u001b[43m        \u001b[49m\u001b[43mtimeout\u001b[49m\u001b[38;5;241;43m=\u001b[39;49m\u001b[43mtimeout\u001b[49m\u001b[43m,\u001b[49m\n\u001b[1;32m    424\u001b[0m \u001b[43m        \u001b[49m\u001b[43mn_jobs\u001b[49m\u001b[38;5;241;43m=\u001b[39;49m\u001b[43mn_jobs\u001b[49m\u001b[43m,\u001b[49m\n\u001b[1;32m    425\u001b[0m \u001b[43m        \u001b[49m\u001b[43mcatch\u001b[49m\u001b[38;5;241;43m=\u001b[39;49m\u001b[43mcatch\u001b[49m\u001b[43m,\u001b[49m\n\u001b[1;32m    426\u001b[0m \u001b[43m        \u001b[49m\u001b[43mcallbacks\u001b[49m\u001b[38;5;241;43m=\u001b[39;49m\u001b[43mcallbacks\u001b[49m\u001b[43m,\u001b[49m\n\u001b[1;32m    427\u001b[0m \u001b[43m        \u001b[49m\u001b[43mgc_after_trial\u001b[49m\u001b[38;5;241;43m=\u001b[39;49m\u001b[43mgc_after_trial\u001b[49m\u001b[43m,\u001b[49m\n\u001b[1;32m    428\u001b[0m \u001b[43m        \u001b[49m\u001b[43mshow_progress_bar\u001b[49m\u001b[38;5;241;43m=\u001b[39;49m\u001b[43mshow_progress_bar\u001b[49m\u001b[43m,\u001b[49m\n\u001b[1;32m    429\u001b[0m \u001b[43m    \u001b[49m\u001b[43m)\u001b[49m\n",
      "File \u001b[0;32m~/miniconda3/envs/fastai/lib/python3.10/site-packages/optuna/study/_optimize.py:66\u001b[0m, in \u001b[0;36m_optimize\u001b[0;34m(study, func, n_trials, timeout, n_jobs, catch, callbacks, gc_after_trial, show_progress_bar)\u001b[0m\n\u001b[1;32m     64\u001b[0m \u001b[38;5;28;01mtry\u001b[39;00m:\n\u001b[1;32m     65\u001b[0m     \u001b[38;5;28;01mif\u001b[39;00m n_jobs \u001b[38;5;241m==\u001b[39m \u001b[38;5;241m1\u001b[39m:\n\u001b[0;32m---> 66\u001b[0m         \u001b[43m_optimize_sequential\u001b[49m\u001b[43m(\u001b[49m\n\u001b[1;32m     67\u001b[0m \u001b[43m            \u001b[49m\u001b[43mstudy\u001b[49m\u001b[43m,\u001b[49m\n\u001b[1;32m     68\u001b[0m \u001b[43m            \u001b[49m\u001b[43mfunc\u001b[49m\u001b[43m,\u001b[49m\n\u001b[1;32m     69\u001b[0m \u001b[43m            \u001b[49m\u001b[43mn_trials\u001b[49m\u001b[43m,\u001b[49m\n\u001b[1;32m     70\u001b[0m \u001b[43m            \u001b[49m\u001b[43mtimeout\u001b[49m\u001b[43m,\u001b[49m\n\u001b[1;32m     71\u001b[0m \u001b[43m            \u001b[49m\u001b[43mcatch\u001b[49m\u001b[43m,\u001b[49m\n\u001b[1;32m     72\u001b[0m \u001b[43m            \u001b[49m\u001b[43mcallbacks\u001b[49m\u001b[43m,\u001b[49m\n\u001b[1;32m     73\u001b[0m \u001b[43m            \u001b[49m\u001b[43mgc_after_trial\u001b[49m\u001b[43m,\u001b[49m\n\u001b[1;32m     74\u001b[0m \u001b[43m            \u001b[49m\u001b[43mreseed_sampler_rng\u001b[49m\u001b[38;5;241;43m=\u001b[39;49m\u001b[38;5;28;43;01mFalse\u001b[39;49;00m\u001b[43m,\u001b[49m\n\u001b[1;32m     75\u001b[0m \u001b[43m            \u001b[49m\u001b[43mtime_start\u001b[49m\u001b[38;5;241;43m=\u001b[39;49m\u001b[38;5;28;43;01mNone\u001b[39;49;00m\u001b[43m,\u001b[49m\n\u001b[1;32m     76\u001b[0m \u001b[43m            \u001b[49m\u001b[43mprogress_bar\u001b[49m\u001b[38;5;241;43m=\u001b[39;49m\u001b[43mprogress_bar\u001b[49m\u001b[43m,\u001b[49m\n\u001b[1;32m     77\u001b[0m \u001b[43m        \u001b[49m\u001b[43m)\u001b[49m\n\u001b[1;32m     78\u001b[0m     \u001b[38;5;28;01melse\u001b[39;00m:\n\u001b[1;32m     79\u001b[0m         \u001b[38;5;28;01mif\u001b[39;00m n_jobs \u001b[38;5;241m==\u001b[39m \u001b[38;5;241m-\u001b[39m\u001b[38;5;241m1\u001b[39m:\n",
      "File \u001b[0;32m~/miniconda3/envs/fastai/lib/python3.10/site-packages/optuna/study/_optimize.py:160\u001b[0m, in \u001b[0;36m_optimize_sequential\u001b[0;34m(study, func, n_trials, timeout, catch, callbacks, gc_after_trial, reseed_sampler_rng, time_start, progress_bar)\u001b[0m\n\u001b[1;32m    157\u001b[0m         \u001b[38;5;28;01mbreak\u001b[39;00m\n\u001b[1;32m    159\u001b[0m \u001b[38;5;28;01mtry\u001b[39;00m:\n\u001b[0;32m--> 160\u001b[0m     frozen_trial \u001b[38;5;241m=\u001b[39m \u001b[43m_run_trial\u001b[49m\u001b[43m(\u001b[49m\u001b[43mstudy\u001b[49m\u001b[43m,\u001b[49m\u001b[43m \u001b[49m\u001b[43mfunc\u001b[49m\u001b[43m,\u001b[49m\u001b[43m \u001b[49m\u001b[43mcatch\u001b[49m\u001b[43m)\u001b[49m\n\u001b[1;32m    161\u001b[0m \u001b[38;5;28;01mfinally\u001b[39;00m:\n\u001b[1;32m    162\u001b[0m     \u001b[38;5;66;03m# The following line mitigates memory problems that can be occurred in some\u001b[39;00m\n\u001b[1;32m    163\u001b[0m     \u001b[38;5;66;03m# environments (e.g., services that use computing containers such as CircleCI).\u001b[39;00m\n\u001b[1;32m    164\u001b[0m     \u001b[38;5;66;03m# Please refer to the following PR for further details:\u001b[39;00m\n\u001b[1;32m    165\u001b[0m     \u001b[38;5;66;03m# https://github.com/optuna/optuna/pull/325.\u001b[39;00m\n\u001b[1;32m    166\u001b[0m     \u001b[38;5;28;01mif\u001b[39;00m gc_after_trial:\n",
      "File \u001b[0;32m~/miniconda3/envs/fastai/lib/python3.10/site-packages/optuna/study/_optimize.py:234\u001b[0m, in \u001b[0;36m_run_trial\u001b[0;34m(study, func, catch)\u001b[0m\n\u001b[1;32m    227\u001b[0m         \u001b[38;5;28;01massert\u001b[39;00m \u001b[38;5;28;01mFalse\u001b[39;00m, \u001b[38;5;124m\"\u001b[39m\u001b[38;5;124mShould not reach.\u001b[39m\u001b[38;5;124m\"\u001b[39m\n\u001b[1;32m    229\u001b[0m \u001b[38;5;28;01mif\u001b[39;00m (\n\u001b[1;32m    230\u001b[0m     frozen_trial\u001b[38;5;241m.\u001b[39mstate \u001b[38;5;241m==\u001b[39m TrialState\u001b[38;5;241m.\u001b[39mFAIL\n\u001b[1;32m    231\u001b[0m     \u001b[38;5;129;01mand\u001b[39;00m func_err \u001b[38;5;129;01mis\u001b[39;00m \u001b[38;5;129;01mnot\u001b[39;00m \u001b[38;5;28;01mNone\u001b[39;00m\n\u001b[1;32m    232\u001b[0m     \u001b[38;5;129;01mand\u001b[39;00m \u001b[38;5;129;01mnot\u001b[39;00m \u001b[38;5;28misinstance\u001b[39m(func_err, catch)\n\u001b[1;32m    233\u001b[0m ):\n\u001b[0;32m--> 234\u001b[0m     \u001b[38;5;28;01mraise\u001b[39;00m func_err\n\u001b[1;32m    235\u001b[0m \u001b[38;5;28;01mreturn\u001b[39;00m frozen_trial\n",
      "File \u001b[0;32m~/miniconda3/envs/fastai/lib/python3.10/site-packages/optuna/study/_optimize.py:196\u001b[0m, in \u001b[0;36m_run_trial\u001b[0;34m(study, func, catch)\u001b[0m\n\u001b[1;32m    194\u001b[0m \u001b[38;5;28;01mwith\u001b[39;00m get_heartbeat_thread(trial\u001b[38;5;241m.\u001b[39m_trial_id, study\u001b[38;5;241m.\u001b[39m_storage):\n\u001b[1;32m    195\u001b[0m     \u001b[38;5;28;01mtry\u001b[39;00m:\n\u001b[0;32m--> 196\u001b[0m         value_or_values \u001b[38;5;241m=\u001b[39m \u001b[43mfunc\u001b[49m\u001b[43m(\u001b[49m\u001b[43mtrial\u001b[49m\u001b[43m)\u001b[49m\n\u001b[1;32m    197\u001b[0m     \u001b[38;5;28;01mexcept\u001b[39;00m exceptions\u001b[38;5;241m.\u001b[39mTrialPruned \u001b[38;5;28;01mas\u001b[39;00m e:\n\u001b[1;32m    198\u001b[0m         \u001b[38;5;66;03m# TODO(mamu): Handle multi-objective cases.\u001b[39;00m\n\u001b[1;32m    199\u001b[0m         state \u001b[38;5;241m=\u001b[39m TrialState\u001b[38;5;241m.\u001b[39mPRUNED\n",
      "Cell \u001b[0;32mIn [53], line 43\u001b[0m, in \u001b[0;36mobjective\u001b[0;34m(trial)\u001b[0m\n\u001b[1;32m     41\u001b[0m LEARNERS\u001b[38;5;241m.\u001b[39mappend(learn)\n\u001b[1;32m     42\u001b[0m \u001b[38;5;28;01mwith\u001b[39;00m learn\u001b[38;5;241m.\u001b[39mno_logging():\n\u001b[0;32m---> 43\u001b[0m     \u001b[43mlearn\u001b[49m\u001b[38;5;241;43m.\u001b[39;49m\u001b[43mfit_one_cycle\u001b[49m\u001b[43m(\u001b[49m\u001b[43mtrial\u001b[49m\u001b[38;5;241;43m.\u001b[39;49m\u001b[43msuggest_int\u001b[49m\u001b[43m(\u001b[49m\u001b[38;5;124;43m'\u001b[39;49m\u001b[38;5;124;43mepochs\u001b[39;49m\u001b[38;5;124;43m'\u001b[39;49m\u001b[43m,\u001b[49m\u001b[38;5;241;43m50\u001b[39;49m\u001b[43m,\u001b[49m\u001b[38;5;241;43m250\u001b[39;49m\u001b[43m)\u001b[49m\u001b[43m,\u001b[49m\n\u001b[1;32m     44\u001b[0m \u001b[43m                        \u001b[49m\u001b[43mtrial\u001b[49m\u001b[38;5;241;43m.\u001b[39;49m\u001b[43msuggest_float\u001b[49m\u001b[43m(\u001b[49m\u001b[38;5;124;43m'\u001b[39;49m\u001b[38;5;124;43mlr\u001b[39;49m\u001b[38;5;124;43m'\u001b[39;49m\u001b[43m,\u001b[49m\u001b[38;5;241;43m1e-3\u001b[39;49m\u001b[43m,\u001b[49m\u001b[38;5;241;43m1e-1\u001b[39;49m\u001b[43m,\u001b[49m\u001b[43mlog\u001b[49m\u001b[38;5;241;43m=\u001b[39;49m\u001b[38;5;28;43;01mTrue\u001b[39;49;00m\u001b[43m)\u001b[49m\u001b[43m,\u001b[49m\n\u001b[1;32m     45\u001b[0m \u001b[43m                        \u001b[49m\u001b[43mdiv\u001b[49m\u001b[38;5;241;43m=\u001b[39;49m\u001b[43mtrial\u001b[49m\u001b[38;5;241;43m.\u001b[39;49m\u001b[43msuggest_float\u001b[49m\u001b[43m(\u001b[49m\u001b[38;5;124;43m'\u001b[39;49m\u001b[38;5;124;43mdiv\u001b[39;49m\u001b[38;5;124;43m'\u001b[39;49m\u001b[43m,\u001b[49m\u001b[38;5;241;43m0.7\u001b[39;49m\u001b[43m,\u001b[49m\u001b[38;5;241;43m1.3\u001b[39;49m\u001b[43m)\u001b[49m\u001b[43m,\u001b[49m\n\u001b[1;32m     46\u001b[0m \u001b[43m                        \u001b[49m\u001b[43mdiv_final\u001b[49m\u001b[38;5;241;43m=\u001b[39;49m\u001b[43mtrial\u001b[49m\u001b[38;5;241;43m.\u001b[39;49m\u001b[43msuggest_float\u001b[49m\u001b[43m(\u001b[49m\u001b[38;5;124;43m'\u001b[39;49m\u001b[38;5;124;43mdiv_final\u001b[39;49m\u001b[38;5;124;43m'\u001b[39;49m\u001b[43m,\u001b[49m\u001b[38;5;241;43m10\u001b[39;49m\u001b[43m,\u001b[49m\u001b[38;5;241;43m100000\u001b[39;49m\u001b[43m,\u001b[49m\u001b[43mlog\u001b[49m\u001b[38;5;241;43m=\u001b[39;49m\u001b[38;5;28;43;01mTrue\u001b[39;49;00m\u001b[43m)\u001b[49m\u001b[43m,\u001b[49m\n\u001b[1;32m     47\u001b[0m \u001b[43m                        \u001b[49m\u001b[43mpct_start\u001b[49m\u001b[38;5;241;43m=\u001b[39;49m\u001b[43mtrial\u001b[49m\u001b[38;5;241;43m.\u001b[39;49m\u001b[43msuggest_float\u001b[49m\u001b[43m(\u001b[49m\u001b[38;5;124;43m'\u001b[39;49m\u001b[38;5;124;43mpct_start\u001b[39;49m\u001b[38;5;124;43m'\u001b[39;49m\u001b[43m,\u001b[49m\u001b[38;5;241;43m0.1\u001b[39;49m\u001b[43m,\u001b[49m\u001b[38;5;241;43m0.8\u001b[39;49m\u001b[43m)\u001b[49m\n\u001b[1;32m     48\u001b[0m \u001b[43m                       \u001b[49m\u001b[43m)\u001b[49m;\n\u001b[1;32m     49\u001b[0m idx \u001b[38;5;241m=\u001b[39m learn\u001b[38;5;241m.\u001b[39mrecorder\u001b[38;5;241m.\u001b[39mmetric_names\u001b[38;5;241m.\u001b[39mindex(\u001b[38;5;124m'\u001b[39m\u001b[38;5;124mdistance_in_km\u001b[39m\u001b[38;5;124m'\u001b[39m)\n\u001b[1;32m     50\u001b[0m values\u001b[38;5;241m.\u001b[39mappend(learn\u001b[38;5;241m.\u001b[39mrecorder\u001b[38;5;241m.\u001b[39mlog[idx])\n",
      "File \u001b[0;32m~/miniconda3/envs/fastai/lib/python3.10/site-packages/fastai/callback/schedule.py:119\u001b[0m, in \u001b[0;36mfit_one_cycle\u001b[0;34m(self, n_epoch, lr_max, div, div_final, pct_start, wd, moms, cbs, reset_opt, start_epoch)\u001b[0m\n\u001b[1;32m    116\u001b[0m lr_max \u001b[38;5;241m=\u001b[39m np\u001b[38;5;241m.\u001b[39marray([h[\u001b[38;5;124m'\u001b[39m\u001b[38;5;124mlr\u001b[39m\u001b[38;5;124m'\u001b[39m] \u001b[38;5;28;01mfor\u001b[39;00m h \u001b[38;5;129;01min\u001b[39;00m \u001b[38;5;28mself\u001b[39m\u001b[38;5;241m.\u001b[39mopt\u001b[38;5;241m.\u001b[39mhypers])\n\u001b[1;32m    117\u001b[0m scheds \u001b[38;5;241m=\u001b[39m {\u001b[38;5;124m'\u001b[39m\u001b[38;5;124mlr\u001b[39m\u001b[38;5;124m'\u001b[39m: combined_cos(pct_start, lr_max\u001b[38;5;241m/\u001b[39mdiv, lr_max, lr_max\u001b[38;5;241m/\u001b[39mdiv_final),\n\u001b[1;32m    118\u001b[0m           \u001b[38;5;124m'\u001b[39m\u001b[38;5;124mmom\u001b[39m\u001b[38;5;124m'\u001b[39m: combined_cos(pct_start, \u001b[38;5;241m*\u001b[39m(\u001b[38;5;28mself\u001b[39m\u001b[38;5;241m.\u001b[39mmoms \u001b[38;5;28;01mif\u001b[39;00m moms \u001b[38;5;129;01mis\u001b[39;00m \u001b[38;5;28;01mNone\u001b[39;00m \u001b[38;5;28;01melse\u001b[39;00m moms))}\n\u001b[0;32m--> 119\u001b[0m \u001b[38;5;28;43mself\u001b[39;49m\u001b[38;5;241;43m.\u001b[39;49m\u001b[43mfit\u001b[49m\u001b[43m(\u001b[49m\u001b[43mn_epoch\u001b[49m\u001b[43m,\u001b[49m\u001b[43m \u001b[49m\u001b[43mcbs\u001b[49m\u001b[38;5;241;43m=\u001b[39;49m\u001b[43mParamScheduler\u001b[49m\u001b[43m(\u001b[49m\u001b[43mscheds\u001b[49m\u001b[43m)\u001b[49m\u001b[38;5;241;43m+\u001b[39;49m\u001b[43mL\u001b[49m\u001b[43m(\u001b[49m\u001b[43mcbs\u001b[49m\u001b[43m)\u001b[49m\u001b[43m,\u001b[49m\u001b[43m \u001b[49m\u001b[43mreset_opt\u001b[49m\u001b[38;5;241;43m=\u001b[39;49m\u001b[43mreset_opt\u001b[49m\u001b[43m,\u001b[49m\u001b[43m \u001b[49m\u001b[43mwd\u001b[49m\u001b[38;5;241;43m=\u001b[39;49m\u001b[43mwd\u001b[49m\u001b[43m,\u001b[49m\u001b[43m \u001b[49m\u001b[43mstart_epoch\u001b[49m\u001b[38;5;241;43m=\u001b[39;49m\u001b[43mstart_epoch\u001b[49m\u001b[43m)\u001b[49m\n",
      "File \u001b[0;32m~/miniconda3/envs/fastai/lib/python3.10/site-packages/fastai/learner.py:256\u001b[0m, in \u001b[0;36mLearner.fit\u001b[0;34m(self, n_epoch, lr, wd, cbs, reset_opt, start_epoch)\u001b[0m\n\u001b[1;32m    254\u001b[0m \u001b[38;5;28mself\u001b[39m\u001b[38;5;241m.\u001b[39mopt\u001b[38;5;241m.\u001b[39mset_hypers(lr\u001b[38;5;241m=\u001b[39m\u001b[38;5;28mself\u001b[39m\u001b[38;5;241m.\u001b[39mlr \u001b[38;5;28;01mif\u001b[39;00m lr \u001b[38;5;129;01mis\u001b[39;00m \u001b[38;5;28;01mNone\u001b[39;00m \u001b[38;5;28;01melse\u001b[39;00m lr)\n\u001b[1;32m    255\u001b[0m \u001b[38;5;28mself\u001b[39m\u001b[38;5;241m.\u001b[39mn_epoch \u001b[38;5;241m=\u001b[39m n_epoch\n\u001b[0;32m--> 256\u001b[0m \u001b[38;5;28;43mself\u001b[39;49m\u001b[38;5;241;43m.\u001b[39;49m\u001b[43m_with_events\u001b[49m\u001b[43m(\u001b[49m\u001b[38;5;28;43mself\u001b[39;49m\u001b[38;5;241;43m.\u001b[39;49m\u001b[43m_do_fit\u001b[49m\u001b[43m,\u001b[49m\u001b[43m \u001b[49m\u001b[38;5;124;43m'\u001b[39;49m\u001b[38;5;124;43mfit\u001b[39;49m\u001b[38;5;124;43m'\u001b[39;49m\u001b[43m,\u001b[49m\u001b[43m \u001b[49m\u001b[43mCancelFitException\u001b[49m\u001b[43m,\u001b[49m\u001b[43m \u001b[49m\u001b[38;5;28;43mself\u001b[39;49m\u001b[38;5;241;43m.\u001b[39;49m\u001b[43m_end_cleanup\u001b[49m\u001b[43m)\u001b[49m\n",
      "File \u001b[0;32m~/miniconda3/envs/fastai/lib/python3.10/site-packages/fastai/learner.py:193\u001b[0m, in \u001b[0;36mLearner._with_events\u001b[0;34m(self, f, event_type, ex, final)\u001b[0m\n\u001b[1;32m    192\u001b[0m \u001b[38;5;28;01mdef\u001b[39;00m \u001b[38;5;21m_with_events\u001b[39m(\u001b[38;5;28mself\u001b[39m, f, event_type, ex, final\u001b[38;5;241m=\u001b[39mnoop):\n\u001b[0;32m--> 193\u001b[0m     \u001b[38;5;28;01mtry\u001b[39;00m: \u001b[38;5;28mself\u001b[39m(\u001b[38;5;124mf\u001b[39m\u001b[38;5;124m'\u001b[39m\u001b[38;5;124mbefore_\u001b[39m\u001b[38;5;132;01m{\u001b[39;00mevent_type\u001b[38;5;132;01m}\u001b[39;00m\u001b[38;5;124m'\u001b[39m);  \u001b[43mf\u001b[49m\u001b[43m(\u001b[49m\u001b[43m)\u001b[49m\n\u001b[1;32m    194\u001b[0m     \u001b[38;5;28;01mexcept\u001b[39;00m ex: \u001b[38;5;28mself\u001b[39m(\u001b[38;5;124mf\u001b[39m\u001b[38;5;124m'\u001b[39m\u001b[38;5;124mafter_cancel_\u001b[39m\u001b[38;5;132;01m{\u001b[39;00mevent_type\u001b[38;5;132;01m}\u001b[39;00m\u001b[38;5;124m'\u001b[39m)\n\u001b[1;32m    195\u001b[0m     \u001b[38;5;28mself\u001b[39m(\u001b[38;5;124mf\u001b[39m\u001b[38;5;124m'\u001b[39m\u001b[38;5;124mafter_\u001b[39m\u001b[38;5;132;01m{\u001b[39;00mevent_type\u001b[38;5;132;01m}\u001b[39;00m\u001b[38;5;124m'\u001b[39m);  final()\n",
      "File \u001b[0;32m~/miniconda3/envs/fastai/lib/python3.10/site-packages/fastai/learner.py:245\u001b[0m, in \u001b[0;36mLearner._do_fit\u001b[0;34m(self)\u001b[0m\n\u001b[1;32m    243\u001b[0m \u001b[38;5;28;01mfor\u001b[39;00m epoch \u001b[38;5;129;01min\u001b[39;00m \u001b[38;5;28mrange\u001b[39m(\u001b[38;5;28mself\u001b[39m\u001b[38;5;241m.\u001b[39mn_epoch):\n\u001b[1;32m    244\u001b[0m     \u001b[38;5;28mself\u001b[39m\u001b[38;5;241m.\u001b[39mepoch\u001b[38;5;241m=\u001b[39mepoch\n\u001b[0;32m--> 245\u001b[0m     \u001b[38;5;28;43mself\u001b[39;49m\u001b[38;5;241;43m.\u001b[39;49m\u001b[43m_with_events\u001b[49m\u001b[43m(\u001b[49m\u001b[38;5;28;43mself\u001b[39;49m\u001b[38;5;241;43m.\u001b[39;49m\u001b[43m_do_epoch\u001b[49m\u001b[43m,\u001b[49m\u001b[43m \u001b[49m\u001b[38;5;124;43m'\u001b[39;49m\u001b[38;5;124;43mepoch\u001b[39;49m\u001b[38;5;124;43m'\u001b[39;49m\u001b[43m,\u001b[49m\u001b[43m \u001b[49m\u001b[43mCancelEpochException\u001b[49m\u001b[43m)\u001b[49m\n",
      "File \u001b[0;32m~/miniconda3/envs/fastai/lib/python3.10/site-packages/fastai/learner.py:193\u001b[0m, in \u001b[0;36mLearner._with_events\u001b[0;34m(self, f, event_type, ex, final)\u001b[0m\n\u001b[1;32m    192\u001b[0m \u001b[38;5;28;01mdef\u001b[39;00m \u001b[38;5;21m_with_events\u001b[39m(\u001b[38;5;28mself\u001b[39m, f, event_type, ex, final\u001b[38;5;241m=\u001b[39mnoop):\n\u001b[0;32m--> 193\u001b[0m     \u001b[38;5;28;01mtry\u001b[39;00m: \u001b[38;5;28mself\u001b[39m(\u001b[38;5;124mf\u001b[39m\u001b[38;5;124m'\u001b[39m\u001b[38;5;124mbefore_\u001b[39m\u001b[38;5;132;01m{\u001b[39;00mevent_type\u001b[38;5;132;01m}\u001b[39;00m\u001b[38;5;124m'\u001b[39m);  \u001b[43mf\u001b[49m\u001b[43m(\u001b[49m\u001b[43m)\u001b[49m\n\u001b[1;32m    194\u001b[0m     \u001b[38;5;28;01mexcept\u001b[39;00m ex: \u001b[38;5;28mself\u001b[39m(\u001b[38;5;124mf\u001b[39m\u001b[38;5;124m'\u001b[39m\u001b[38;5;124mafter_cancel_\u001b[39m\u001b[38;5;132;01m{\u001b[39;00mevent_type\u001b[38;5;132;01m}\u001b[39;00m\u001b[38;5;124m'\u001b[39m)\n\u001b[1;32m    195\u001b[0m     \u001b[38;5;28mself\u001b[39m(\u001b[38;5;124mf\u001b[39m\u001b[38;5;124m'\u001b[39m\u001b[38;5;124mafter_\u001b[39m\u001b[38;5;132;01m{\u001b[39;00mevent_type\u001b[38;5;132;01m}\u001b[39;00m\u001b[38;5;124m'\u001b[39m);  final()\n",
      "File \u001b[0;32m~/miniconda3/envs/fastai/lib/python3.10/site-packages/fastai/learner.py:239\u001b[0m, in \u001b[0;36mLearner._do_epoch\u001b[0;34m(self)\u001b[0m\n\u001b[1;32m    238\u001b[0m \u001b[38;5;28;01mdef\u001b[39;00m \u001b[38;5;21m_do_epoch\u001b[39m(\u001b[38;5;28mself\u001b[39m):\n\u001b[0;32m--> 239\u001b[0m     \u001b[38;5;28;43mself\u001b[39;49m\u001b[38;5;241;43m.\u001b[39;49m\u001b[43m_do_epoch_train\u001b[49m\u001b[43m(\u001b[49m\u001b[43m)\u001b[49m\n\u001b[1;32m    240\u001b[0m     \u001b[38;5;28mself\u001b[39m\u001b[38;5;241m.\u001b[39m_do_epoch_validate()\n",
      "File \u001b[0;32m~/miniconda3/envs/fastai/lib/python3.10/site-packages/fastai/learner.py:231\u001b[0m, in \u001b[0;36mLearner._do_epoch_train\u001b[0;34m(self)\u001b[0m\n\u001b[1;32m    229\u001b[0m \u001b[38;5;28;01mdef\u001b[39;00m \u001b[38;5;21m_do_epoch_train\u001b[39m(\u001b[38;5;28mself\u001b[39m):\n\u001b[1;32m    230\u001b[0m     \u001b[38;5;28mself\u001b[39m\u001b[38;5;241m.\u001b[39mdl \u001b[38;5;241m=\u001b[39m \u001b[38;5;28mself\u001b[39m\u001b[38;5;241m.\u001b[39mdls\u001b[38;5;241m.\u001b[39mtrain\n\u001b[0;32m--> 231\u001b[0m     \u001b[38;5;28;43mself\u001b[39;49m\u001b[38;5;241;43m.\u001b[39;49m\u001b[43m_with_events\u001b[49m\u001b[43m(\u001b[49m\u001b[38;5;28;43mself\u001b[39;49m\u001b[38;5;241;43m.\u001b[39;49m\u001b[43mall_batches\u001b[49m\u001b[43m,\u001b[49m\u001b[43m \u001b[49m\u001b[38;5;124;43m'\u001b[39;49m\u001b[38;5;124;43mtrain\u001b[39;49m\u001b[38;5;124;43m'\u001b[39;49m\u001b[43m,\u001b[49m\u001b[43m \u001b[49m\u001b[43mCancelTrainException\u001b[49m\u001b[43m)\u001b[49m\n",
      "File \u001b[0;32m~/miniconda3/envs/fastai/lib/python3.10/site-packages/fastai/learner.py:193\u001b[0m, in \u001b[0;36mLearner._with_events\u001b[0;34m(self, f, event_type, ex, final)\u001b[0m\n\u001b[1;32m    192\u001b[0m \u001b[38;5;28;01mdef\u001b[39;00m \u001b[38;5;21m_with_events\u001b[39m(\u001b[38;5;28mself\u001b[39m, f, event_type, ex, final\u001b[38;5;241m=\u001b[39mnoop):\n\u001b[0;32m--> 193\u001b[0m     \u001b[38;5;28;01mtry\u001b[39;00m: \u001b[38;5;28mself\u001b[39m(\u001b[38;5;124mf\u001b[39m\u001b[38;5;124m'\u001b[39m\u001b[38;5;124mbefore_\u001b[39m\u001b[38;5;132;01m{\u001b[39;00mevent_type\u001b[38;5;132;01m}\u001b[39;00m\u001b[38;5;124m'\u001b[39m);  \u001b[43mf\u001b[49m\u001b[43m(\u001b[49m\u001b[43m)\u001b[49m\n\u001b[1;32m    194\u001b[0m     \u001b[38;5;28;01mexcept\u001b[39;00m ex: \u001b[38;5;28mself\u001b[39m(\u001b[38;5;124mf\u001b[39m\u001b[38;5;124m'\u001b[39m\u001b[38;5;124mafter_cancel_\u001b[39m\u001b[38;5;132;01m{\u001b[39;00mevent_type\u001b[38;5;132;01m}\u001b[39;00m\u001b[38;5;124m'\u001b[39m)\n\u001b[1;32m    195\u001b[0m     \u001b[38;5;28mself\u001b[39m(\u001b[38;5;124mf\u001b[39m\u001b[38;5;124m'\u001b[39m\u001b[38;5;124mafter_\u001b[39m\u001b[38;5;132;01m{\u001b[39;00mevent_type\u001b[38;5;132;01m}\u001b[39;00m\u001b[38;5;124m'\u001b[39m);  final()\n",
      "File \u001b[0;32m~/miniconda3/envs/fastai/lib/python3.10/site-packages/fastai/learner.py:199\u001b[0m, in \u001b[0;36mLearner.all_batches\u001b[0;34m(self)\u001b[0m\n\u001b[1;32m    197\u001b[0m \u001b[38;5;28;01mdef\u001b[39;00m \u001b[38;5;21mall_batches\u001b[39m(\u001b[38;5;28mself\u001b[39m):\n\u001b[1;32m    198\u001b[0m     \u001b[38;5;28mself\u001b[39m\u001b[38;5;241m.\u001b[39mn_iter \u001b[38;5;241m=\u001b[39m \u001b[38;5;28mlen\u001b[39m(\u001b[38;5;28mself\u001b[39m\u001b[38;5;241m.\u001b[39mdl)\n\u001b[0;32m--> 199\u001b[0m     \u001b[38;5;28;01mfor\u001b[39;00m o \u001b[38;5;129;01min\u001b[39;00m \u001b[38;5;28menumerate\u001b[39m(\u001b[38;5;28mself\u001b[39m\u001b[38;5;241m.\u001b[39mdl): \u001b[38;5;28;43mself\u001b[39;49m\u001b[38;5;241;43m.\u001b[39;49m\u001b[43mone_batch\u001b[49m\u001b[43m(\u001b[49m\u001b[38;5;241;43m*\u001b[39;49m\u001b[43mo\u001b[49m\u001b[43m)\u001b[49m\n",
      "File \u001b[0;32m~/miniconda3/envs/fastai/lib/python3.10/site-packages/fastai/learner.py:227\u001b[0m, in \u001b[0;36mLearner.one_batch\u001b[0;34m(self, i, b)\u001b[0m\n\u001b[1;32m    225\u001b[0m b \u001b[38;5;241m=\u001b[39m \u001b[38;5;28mself\u001b[39m\u001b[38;5;241m.\u001b[39m_set_device(b)\n\u001b[1;32m    226\u001b[0m \u001b[38;5;28mself\u001b[39m\u001b[38;5;241m.\u001b[39m_split(b)\n\u001b[0;32m--> 227\u001b[0m \u001b[38;5;28;43mself\u001b[39;49m\u001b[38;5;241;43m.\u001b[39;49m\u001b[43m_with_events\u001b[49m\u001b[43m(\u001b[49m\u001b[38;5;28;43mself\u001b[39;49m\u001b[38;5;241;43m.\u001b[39;49m\u001b[43m_do_one_batch\u001b[49m\u001b[43m,\u001b[49m\u001b[43m \u001b[49m\u001b[38;5;124;43m'\u001b[39;49m\u001b[38;5;124;43mbatch\u001b[39;49m\u001b[38;5;124;43m'\u001b[39;49m\u001b[43m,\u001b[49m\u001b[43m \u001b[49m\u001b[43mCancelBatchException\u001b[49m\u001b[43m)\u001b[49m\n",
      "File \u001b[0;32m~/miniconda3/envs/fastai/lib/python3.10/site-packages/fastai/learner.py:193\u001b[0m, in \u001b[0;36mLearner._with_events\u001b[0;34m(self, f, event_type, ex, final)\u001b[0m\n\u001b[1;32m    192\u001b[0m \u001b[38;5;28;01mdef\u001b[39;00m \u001b[38;5;21m_with_events\u001b[39m(\u001b[38;5;28mself\u001b[39m, f, event_type, ex, final\u001b[38;5;241m=\u001b[39mnoop):\n\u001b[0;32m--> 193\u001b[0m     \u001b[38;5;28;01mtry\u001b[39;00m: \u001b[38;5;28mself\u001b[39m(\u001b[38;5;124mf\u001b[39m\u001b[38;5;124m'\u001b[39m\u001b[38;5;124mbefore_\u001b[39m\u001b[38;5;132;01m{\u001b[39;00mevent_type\u001b[38;5;132;01m}\u001b[39;00m\u001b[38;5;124m'\u001b[39m);  \u001b[43mf\u001b[49m\u001b[43m(\u001b[49m\u001b[43m)\u001b[49m\n\u001b[1;32m    194\u001b[0m     \u001b[38;5;28;01mexcept\u001b[39;00m ex: \u001b[38;5;28mself\u001b[39m(\u001b[38;5;124mf\u001b[39m\u001b[38;5;124m'\u001b[39m\u001b[38;5;124mafter_cancel_\u001b[39m\u001b[38;5;132;01m{\u001b[39;00mevent_type\u001b[38;5;132;01m}\u001b[39;00m\u001b[38;5;124m'\u001b[39m)\n\u001b[1;32m    195\u001b[0m     \u001b[38;5;28mself\u001b[39m(\u001b[38;5;124mf\u001b[39m\u001b[38;5;124m'\u001b[39m\u001b[38;5;124mafter_\u001b[39m\u001b[38;5;132;01m{\u001b[39;00mevent_type\u001b[38;5;132;01m}\u001b[39;00m\u001b[38;5;124m'\u001b[39m);  final()\n",
      "File \u001b[0;32m~/miniconda3/envs/fastai/lib/python3.10/site-packages/fastai/learner.py:205\u001b[0m, in \u001b[0;36mLearner._do_one_batch\u001b[0;34m(self)\u001b[0m\n\u001b[1;32m    204\u001b[0m \u001b[38;5;28;01mdef\u001b[39;00m \u001b[38;5;21m_do_one_batch\u001b[39m(\u001b[38;5;28mself\u001b[39m):\n\u001b[0;32m--> 205\u001b[0m     \u001b[38;5;28mself\u001b[39m\u001b[38;5;241m.\u001b[39mpred \u001b[38;5;241m=\u001b[39m \u001b[38;5;28;43mself\u001b[39;49m\u001b[38;5;241;43m.\u001b[39;49m\u001b[43mmodel\u001b[49m\u001b[43m(\u001b[49m\u001b[38;5;241;43m*\u001b[39;49m\u001b[38;5;28;43mself\u001b[39;49m\u001b[38;5;241;43m.\u001b[39;49m\u001b[43mxb\u001b[49m\u001b[43m)\u001b[49m\n\u001b[1;32m    206\u001b[0m     \u001b[38;5;28mself\u001b[39m(\u001b[38;5;124m'\u001b[39m\u001b[38;5;124mafter_pred\u001b[39m\u001b[38;5;124m'\u001b[39m)\n\u001b[1;32m    207\u001b[0m     \u001b[38;5;28;01mif\u001b[39;00m \u001b[38;5;28mlen\u001b[39m(\u001b[38;5;28mself\u001b[39m\u001b[38;5;241m.\u001b[39myb):\n",
      "File \u001b[0;32m~/miniconda3/envs/fastai/lib/python3.10/site-packages/torch/nn/modules/module.py:1190\u001b[0m, in \u001b[0;36mModule._call_impl\u001b[0;34m(self, *input, **kwargs)\u001b[0m\n\u001b[1;32m   1186\u001b[0m \u001b[38;5;66;03m# If we don't have any hooks, we want to skip the rest of the logic in\u001b[39;00m\n\u001b[1;32m   1187\u001b[0m \u001b[38;5;66;03m# this function, and just call forward.\u001b[39;00m\n\u001b[1;32m   1188\u001b[0m \u001b[38;5;28;01mif\u001b[39;00m \u001b[38;5;129;01mnot\u001b[39;00m (\u001b[38;5;28mself\u001b[39m\u001b[38;5;241m.\u001b[39m_backward_hooks \u001b[38;5;129;01mor\u001b[39;00m \u001b[38;5;28mself\u001b[39m\u001b[38;5;241m.\u001b[39m_forward_hooks \u001b[38;5;129;01mor\u001b[39;00m \u001b[38;5;28mself\u001b[39m\u001b[38;5;241m.\u001b[39m_forward_pre_hooks \u001b[38;5;129;01mor\u001b[39;00m _global_backward_hooks\n\u001b[1;32m   1189\u001b[0m         \u001b[38;5;129;01mor\u001b[39;00m _global_forward_hooks \u001b[38;5;129;01mor\u001b[39;00m _global_forward_pre_hooks):\n\u001b[0;32m-> 1190\u001b[0m     \u001b[38;5;28;01mreturn\u001b[39;00m \u001b[43mforward_call\u001b[49m\u001b[43m(\u001b[49m\u001b[38;5;241;43m*\u001b[39;49m\u001b[38;5;28;43minput\u001b[39;49m\u001b[43m,\u001b[49m\u001b[43m \u001b[49m\u001b[38;5;241;43m*\u001b[39;49m\u001b[38;5;241;43m*\u001b[39;49m\u001b[43mkwargs\u001b[49m\u001b[43m)\u001b[49m\n\u001b[1;32m   1191\u001b[0m \u001b[38;5;66;03m# Do not call functions when jit is used\u001b[39;00m\n\u001b[1;32m   1192\u001b[0m full_backward_hooks, non_full_backward_hooks \u001b[38;5;241m=\u001b[39m [], []\n",
      "File \u001b[0;32m~/miniconda3/envs/fastai/lib/python3.10/site-packages/fastai/tabular/model.py:73\u001b[0m, in \u001b[0;36mTabularModel.forward\u001b[0;34m(self, x_cat, x_cont)\u001b[0m\n\u001b[1;32m     71\u001b[0m     \u001b[38;5;28;01mif\u001b[39;00m \u001b[38;5;28mself\u001b[39m\u001b[38;5;241m.\u001b[39mbn_cont \u001b[38;5;129;01mis\u001b[39;00m \u001b[38;5;129;01mnot\u001b[39;00m \u001b[38;5;28;01mNone\u001b[39;00m: x_cont \u001b[38;5;241m=\u001b[39m \u001b[38;5;28mself\u001b[39m\u001b[38;5;241m.\u001b[39mbn_cont(x_cont)\n\u001b[1;32m     72\u001b[0m     x \u001b[38;5;241m=\u001b[39m torch\u001b[38;5;241m.\u001b[39mcat([x, x_cont], \u001b[38;5;241m1\u001b[39m) \u001b[38;5;28;01mif\u001b[39;00m \u001b[38;5;28mself\u001b[39m\u001b[38;5;241m.\u001b[39mn_emb \u001b[38;5;241m!=\u001b[39m \u001b[38;5;241m0\u001b[39m \u001b[38;5;28;01melse\u001b[39;00m x_cont\n\u001b[0;32m---> 73\u001b[0m \u001b[38;5;28;01mreturn\u001b[39;00m \u001b[38;5;28;43mself\u001b[39;49m\u001b[38;5;241;43m.\u001b[39;49m\u001b[43mlayers\u001b[49m\u001b[43m(\u001b[49m\u001b[43mx\u001b[49m\u001b[43m)\u001b[49m\n",
      "File \u001b[0;32m~/miniconda3/envs/fastai/lib/python3.10/site-packages/torch/nn/modules/module.py:1190\u001b[0m, in \u001b[0;36mModule._call_impl\u001b[0;34m(self, *input, **kwargs)\u001b[0m\n\u001b[1;32m   1186\u001b[0m \u001b[38;5;66;03m# If we don't have any hooks, we want to skip the rest of the logic in\u001b[39;00m\n\u001b[1;32m   1187\u001b[0m \u001b[38;5;66;03m# this function, and just call forward.\u001b[39;00m\n\u001b[1;32m   1188\u001b[0m \u001b[38;5;28;01mif\u001b[39;00m \u001b[38;5;129;01mnot\u001b[39;00m (\u001b[38;5;28mself\u001b[39m\u001b[38;5;241m.\u001b[39m_backward_hooks \u001b[38;5;129;01mor\u001b[39;00m \u001b[38;5;28mself\u001b[39m\u001b[38;5;241m.\u001b[39m_forward_hooks \u001b[38;5;129;01mor\u001b[39;00m \u001b[38;5;28mself\u001b[39m\u001b[38;5;241m.\u001b[39m_forward_pre_hooks \u001b[38;5;129;01mor\u001b[39;00m _global_backward_hooks\n\u001b[1;32m   1189\u001b[0m         \u001b[38;5;129;01mor\u001b[39;00m _global_forward_hooks \u001b[38;5;129;01mor\u001b[39;00m _global_forward_pre_hooks):\n\u001b[0;32m-> 1190\u001b[0m     \u001b[38;5;28;01mreturn\u001b[39;00m \u001b[43mforward_call\u001b[49m\u001b[43m(\u001b[49m\u001b[38;5;241;43m*\u001b[39;49m\u001b[38;5;28;43minput\u001b[39;49m\u001b[43m,\u001b[49m\u001b[43m \u001b[49m\u001b[38;5;241;43m*\u001b[39;49m\u001b[38;5;241;43m*\u001b[39;49m\u001b[43mkwargs\u001b[49m\u001b[43m)\u001b[49m\n\u001b[1;32m   1191\u001b[0m \u001b[38;5;66;03m# Do not call functions when jit is used\u001b[39;00m\n\u001b[1;32m   1192\u001b[0m full_backward_hooks, non_full_backward_hooks \u001b[38;5;241m=\u001b[39m [], []\n",
      "File \u001b[0;32m~/miniconda3/envs/fastai/lib/python3.10/site-packages/torch/nn/modules/container.py:204\u001b[0m, in \u001b[0;36mSequential.forward\u001b[0;34m(self, input)\u001b[0m\n\u001b[1;32m    202\u001b[0m \u001b[38;5;28;01mdef\u001b[39;00m \u001b[38;5;21mforward\u001b[39m(\u001b[38;5;28mself\u001b[39m, \u001b[38;5;28minput\u001b[39m):\n\u001b[1;32m    203\u001b[0m     \u001b[38;5;28;01mfor\u001b[39;00m module \u001b[38;5;129;01min\u001b[39;00m \u001b[38;5;28mself\u001b[39m:\n\u001b[0;32m--> 204\u001b[0m         \u001b[38;5;28minput\u001b[39m \u001b[38;5;241m=\u001b[39m \u001b[43mmodule\u001b[49m\u001b[43m(\u001b[49m\u001b[38;5;28;43minput\u001b[39;49m\u001b[43m)\u001b[49m\n\u001b[1;32m    205\u001b[0m     \u001b[38;5;28;01mreturn\u001b[39;00m \u001b[38;5;28minput\u001b[39m\n",
      "File \u001b[0;32m~/miniconda3/envs/fastai/lib/python3.10/site-packages/torch/nn/modules/module.py:1190\u001b[0m, in \u001b[0;36mModule._call_impl\u001b[0;34m(self, *input, **kwargs)\u001b[0m\n\u001b[1;32m   1186\u001b[0m \u001b[38;5;66;03m# If we don't have any hooks, we want to skip the rest of the logic in\u001b[39;00m\n\u001b[1;32m   1187\u001b[0m \u001b[38;5;66;03m# this function, and just call forward.\u001b[39;00m\n\u001b[1;32m   1188\u001b[0m \u001b[38;5;28;01mif\u001b[39;00m \u001b[38;5;129;01mnot\u001b[39;00m (\u001b[38;5;28mself\u001b[39m\u001b[38;5;241m.\u001b[39m_backward_hooks \u001b[38;5;129;01mor\u001b[39;00m \u001b[38;5;28mself\u001b[39m\u001b[38;5;241m.\u001b[39m_forward_hooks \u001b[38;5;129;01mor\u001b[39;00m \u001b[38;5;28mself\u001b[39m\u001b[38;5;241m.\u001b[39m_forward_pre_hooks \u001b[38;5;129;01mor\u001b[39;00m _global_backward_hooks\n\u001b[1;32m   1189\u001b[0m         \u001b[38;5;129;01mor\u001b[39;00m _global_forward_hooks \u001b[38;5;129;01mor\u001b[39;00m _global_forward_pre_hooks):\n\u001b[0;32m-> 1190\u001b[0m     \u001b[38;5;28;01mreturn\u001b[39;00m \u001b[43mforward_call\u001b[49m\u001b[43m(\u001b[49m\u001b[38;5;241;43m*\u001b[39;49m\u001b[38;5;28;43minput\u001b[39;49m\u001b[43m,\u001b[49m\u001b[43m \u001b[49m\u001b[38;5;241;43m*\u001b[39;49m\u001b[38;5;241;43m*\u001b[39;49m\u001b[43mkwargs\u001b[49m\u001b[43m)\u001b[49m\n\u001b[1;32m   1191\u001b[0m \u001b[38;5;66;03m# Do not call functions when jit is used\u001b[39;00m\n\u001b[1;32m   1192\u001b[0m full_backward_hooks, non_full_backward_hooks \u001b[38;5;241m=\u001b[39m [], []\n",
      "File \u001b[0;32m~/alumnos/Hackaton/layers.py:33\u001b[0m, in \u001b[0;36mResLinear.forward\u001b[0;34m(self, x)\u001b[0m\n\u001b[1;32m     32\u001b[0m \u001b[38;5;28;01mdef\u001b[39;00m \u001b[38;5;21mforward\u001b[39m(\u001b[38;5;28mself\u001b[39m, x):\n\u001b[0;32m---> 33\u001b[0m     \u001b[38;5;28;01mreturn\u001b[39;00m x \u001b[38;5;241m+\u001b[39m \u001b[38;5;28;43mself\u001b[39;49m\u001b[38;5;241;43m.\u001b[39;49m\u001b[43mres\u001b[49m\u001b[43m(\u001b[49m\u001b[43mx\u001b[49m\u001b[43m)\u001b[49m\n",
      "File \u001b[0;32m~/miniconda3/envs/fastai/lib/python3.10/site-packages/torch/nn/modules/module.py:1190\u001b[0m, in \u001b[0;36mModule._call_impl\u001b[0;34m(self, *input, **kwargs)\u001b[0m\n\u001b[1;32m   1186\u001b[0m \u001b[38;5;66;03m# If we don't have any hooks, we want to skip the rest of the logic in\u001b[39;00m\n\u001b[1;32m   1187\u001b[0m \u001b[38;5;66;03m# this function, and just call forward.\u001b[39;00m\n\u001b[1;32m   1188\u001b[0m \u001b[38;5;28;01mif\u001b[39;00m \u001b[38;5;129;01mnot\u001b[39;00m (\u001b[38;5;28mself\u001b[39m\u001b[38;5;241m.\u001b[39m_backward_hooks \u001b[38;5;129;01mor\u001b[39;00m \u001b[38;5;28mself\u001b[39m\u001b[38;5;241m.\u001b[39m_forward_hooks \u001b[38;5;129;01mor\u001b[39;00m \u001b[38;5;28mself\u001b[39m\u001b[38;5;241m.\u001b[39m_forward_pre_hooks \u001b[38;5;129;01mor\u001b[39;00m _global_backward_hooks\n\u001b[1;32m   1189\u001b[0m         \u001b[38;5;129;01mor\u001b[39;00m _global_forward_hooks \u001b[38;5;129;01mor\u001b[39;00m _global_forward_pre_hooks):\n\u001b[0;32m-> 1190\u001b[0m     \u001b[38;5;28;01mreturn\u001b[39;00m \u001b[43mforward_call\u001b[49m\u001b[43m(\u001b[49m\u001b[38;5;241;43m*\u001b[39;49m\u001b[38;5;28;43minput\u001b[39;49m\u001b[43m,\u001b[49m\u001b[43m \u001b[49m\u001b[38;5;241;43m*\u001b[39;49m\u001b[38;5;241;43m*\u001b[39;49m\u001b[43mkwargs\u001b[49m\u001b[43m)\u001b[49m\n\u001b[1;32m   1191\u001b[0m \u001b[38;5;66;03m# Do not call functions when jit is used\u001b[39;00m\n\u001b[1;32m   1192\u001b[0m full_backward_hooks, non_full_backward_hooks \u001b[38;5;241m=\u001b[39m [], []\n",
      "File \u001b[0;32m~/miniconda3/envs/fastai/lib/python3.10/site-packages/torch/nn/modules/container.py:204\u001b[0m, in \u001b[0;36mSequential.forward\u001b[0;34m(self, input)\u001b[0m\n\u001b[1;32m    202\u001b[0m \u001b[38;5;28;01mdef\u001b[39;00m \u001b[38;5;21mforward\u001b[39m(\u001b[38;5;28mself\u001b[39m, \u001b[38;5;28minput\u001b[39m):\n\u001b[1;32m    203\u001b[0m     \u001b[38;5;28;01mfor\u001b[39;00m module \u001b[38;5;129;01min\u001b[39;00m \u001b[38;5;28mself\u001b[39m:\n\u001b[0;32m--> 204\u001b[0m         \u001b[38;5;28minput\u001b[39m \u001b[38;5;241m=\u001b[39m \u001b[43mmodule\u001b[49m\u001b[43m(\u001b[49m\u001b[38;5;28;43minput\u001b[39;49m\u001b[43m)\u001b[49m\n\u001b[1;32m    205\u001b[0m     \u001b[38;5;28;01mreturn\u001b[39;00m \u001b[38;5;28minput\u001b[39m\n",
      "File \u001b[0;32m~/miniconda3/envs/fastai/lib/python3.10/site-packages/torch/nn/modules/module.py:1190\u001b[0m, in \u001b[0;36mModule._call_impl\u001b[0;34m(self, *input, **kwargs)\u001b[0m\n\u001b[1;32m   1186\u001b[0m \u001b[38;5;66;03m# If we don't have any hooks, we want to skip the rest of the logic in\u001b[39;00m\n\u001b[1;32m   1187\u001b[0m \u001b[38;5;66;03m# this function, and just call forward.\u001b[39;00m\n\u001b[1;32m   1188\u001b[0m \u001b[38;5;28;01mif\u001b[39;00m \u001b[38;5;129;01mnot\u001b[39;00m (\u001b[38;5;28mself\u001b[39m\u001b[38;5;241m.\u001b[39m_backward_hooks \u001b[38;5;129;01mor\u001b[39;00m \u001b[38;5;28mself\u001b[39m\u001b[38;5;241m.\u001b[39m_forward_hooks \u001b[38;5;129;01mor\u001b[39;00m \u001b[38;5;28mself\u001b[39m\u001b[38;5;241m.\u001b[39m_forward_pre_hooks \u001b[38;5;129;01mor\u001b[39;00m _global_backward_hooks\n\u001b[1;32m   1189\u001b[0m         \u001b[38;5;129;01mor\u001b[39;00m _global_forward_hooks \u001b[38;5;129;01mor\u001b[39;00m _global_forward_pre_hooks):\n\u001b[0;32m-> 1190\u001b[0m     \u001b[38;5;28;01mreturn\u001b[39;00m \u001b[43mforward_call\u001b[49m\u001b[43m(\u001b[49m\u001b[38;5;241;43m*\u001b[39;49m\u001b[38;5;28;43minput\u001b[39;49m\u001b[43m,\u001b[49m\u001b[43m \u001b[49m\u001b[38;5;241;43m*\u001b[39;49m\u001b[38;5;241;43m*\u001b[39;49m\u001b[43mkwargs\u001b[49m\u001b[43m)\u001b[49m\n\u001b[1;32m   1191\u001b[0m \u001b[38;5;66;03m# Do not call functions when jit is used\u001b[39;00m\n\u001b[1;32m   1192\u001b[0m full_backward_hooks, non_full_backward_hooks \u001b[38;5;241m=\u001b[39m [], []\n",
      "File \u001b[0;32m~/miniconda3/envs/fastai/lib/python3.10/site-packages/torch/nn/modules/linear.py:114\u001b[0m, in \u001b[0;36mLinear.forward\u001b[0;34m(self, input)\u001b[0m\n\u001b[1;32m    113\u001b[0m \u001b[38;5;28;01mdef\u001b[39;00m \u001b[38;5;21mforward\u001b[39m(\u001b[38;5;28mself\u001b[39m, \u001b[38;5;28minput\u001b[39m: Tensor) \u001b[38;5;241m-\u001b[39m\u001b[38;5;241m>\u001b[39m Tensor:\n\u001b[0;32m--> 114\u001b[0m     \u001b[38;5;28;01mreturn\u001b[39;00m \u001b[43mF\u001b[49m\u001b[38;5;241;43m.\u001b[39;49m\u001b[43mlinear\u001b[49m\u001b[43m(\u001b[49m\u001b[38;5;28;43minput\u001b[39;49m\u001b[43m,\u001b[49m\u001b[43m \u001b[49m\u001b[38;5;28;43mself\u001b[39;49m\u001b[38;5;241;43m.\u001b[39;49m\u001b[43mweight\u001b[49m\u001b[43m,\u001b[49m\u001b[43m \u001b[49m\u001b[38;5;28;43mself\u001b[39;49m\u001b[38;5;241;43m.\u001b[39;49m\u001b[43mbias\u001b[49m\u001b[43m)\u001b[49m\n",
      "\u001b[0;31mKeyboardInterrupt\u001b[0m: "
     ]
    }
   ],
   "source": [
    "r.optimize(objective,n_trials=7)"
   ]
  },
  {
   "cell_type": "code",
   "execution_count": 171,
   "id": "50ec6dca-8b6d-45a2-94d7-ce650c75019d",
   "metadata": {},
   "outputs": [],
   "source": [
    "learn = ft.load_learner(\"models/learn_252.112_219982.pkg\")"
   ]
  },
  {
   "cell_type": "code",
   "execution_count": 172,
   "id": "636a114f-5f1f-4563-99f1-bc8883030ff8",
   "metadata": {},
   "outputs": [],
   "source": [
    "src = ft.TabularPandas(df.copy(),\n",
    "                       procs=[ft.Normalize],\n",
    "                       cat_names = cat_names,\n",
    "                       cont_names = cont_names,\n",
    "                       y_names = y_cat_names + y_cont_names,\n",
    "                       splits = ft.RandomSplitter(0.05,seed=219982)(ft.range_of(df))\n",
    "                       )\n",
    "        \n",
    "dls = src.dataloaders(bs=512)"
   ]
  },
  {
   "cell_type": "code",
   "execution_count": 173,
   "id": "de4c5428-7ecb-4e12-af8d-24a8a26561c6",
   "metadata": {},
   "outputs": [],
   "source": [
    "vdf = df.iloc[dls.valid.items.index].copy()"
   ]
  },
  {
   "cell_type": "code",
   "execution_count": 174,
   "id": "4387668d-ed3c-4597-a40c-c0b014f7ae61",
   "metadata": {},
   "outputs": [],
   "source": [
    "def interpret_preds(learn:ft.Learner, dls:ft.DataLoaders, df:pd.DataFrame, Yproc:Preprocess):\n",
    "    df = df.copy().reset_index(drop=True)\n",
    "    test_dl = dls.test_dl(df)\n",
    "    yp,_ = learn.get_preds(dl=test_dl)\n",
    "    \n",
    "    i = 0\n",
    "    for c,n in zip(Yproc.y_cat,Yproc.numericalizers):\n",
    "        j = i+n.num_cats()\n",
    "        p = yp[:,i:j].argmax(dim=1)\n",
    "        df[f'{c}_p'] = p\n",
    "        df[f'{c}_p'] = df[f'{c}_p'].apply(lambda x: n.idx2cat[x])\n",
    "        i = j\n",
    "        \n",
    "    for c,(m,s) in zip(Yproc.y_cont,Yproc.mu_sd):\n",
    "        df[f'{c}_p'] = yp[:,i]*s+m\n",
    "        \n",
    "        i += 1\n",
    "        \n",
    "    return Yproc.unapply(df)\n",
    "    "
   ]
  },
  {
   "cell_type": "code",
   "execution_count": 175,
   "id": "9d966cd7-6096-4ca8-8ee6-1443cc3b570c",
   "metadata": {},
   "outputs": [
    {
     "data": {
      "text/html": [
       "\n",
       "<style>\n",
       "    /* Turns off some styling */\n",
       "    progress {\n",
       "        /* gets rid of default border in Firefox and Opera. */\n",
       "        border: none;\n",
       "        /* Needs to be in here for Safari polyfill so background images work as expected. */\n",
       "        background-size: auto;\n",
       "    }\n",
       "    progress:not([value]), progress:not([value])::-webkit-progress-bar {\n",
       "        background: repeating-linear-gradient(45deg, #7e7e7e, #7e7e7e 10px, #5c5c5c 10px, #5c5c5c 20px);\n",
       "    }\n",
       "    .progress-bar-interrupted, .progress-bar-interrupted::-webkit-progress-bar {\n",
       "        background: #F44336;\n",
       "    }\n",
       "</style>\n"
      ],
      "text/plain": [
       "<IPython.core.display.HTML object>"
      ]
     },
     "metadata": {},
     "output_type": "display_data"
    },
    {
     "data": {
      "text/html": [],
      "text/plain": [
       "<IPython.core.display.HTML object>"
      ]
     },
     "metadata": {},
     "output_type": "display_data"
    }
   ],
   "source": [
    "Q = interpret_preds(learn,dls,vdf,Yproc)"
   ]
  },
  {
   "cell_type": "code",
   "execution_count": 176,
   "id": "31854346-f186-495f-9434-21808226ca75",
   "metadata": {},
   "outputs": [],
   "source": [
    "EARTH_RADIUS=6371"
   ]
  },
  {
   "cell_type": "code",
   "execution_count": 177,
   "id": "ab0e6d72-df39-4ab5-ae0a-b61560803240",
   "metadata": {
    "tags": []
   },
   "outputs": [],
   "source": [
    "for c in ['x','y','z','x_p','y_p','z_p']:\n",
    "    Q[c] = EARTH_RADIUS*Q[c]"
   ]
  },
  {
   "cell_type": "code",
   "execution_count": 178,
   "id": "7b74acf8-3a7f-4a8b-a0c8-bd132e15eb5f",
   "metadata": {},
   "outputs": [],
   "source": [
    "Q.drop(['index','X'],inplace=True,axis=1)"
   ]
  },
  {
   "cell_type": "code",
   "execution_count": 179,
   "id": "7be583e0-bd33-4bf2-be7b-678e203252a8",
   "metadata": {},
   "outputs": [],
   "source": [
    "good_cols = ['Latitude','Longitude']\n",
    "good_cols += y_cont_names + y_cat_names\n",
    "good_cols += [c for c in Q.columns if '_p' in c]"
   ]
  },
  {
   "cell_type": "code",
   "execution_count": 180,
   "id": "1a89a90a-46f7-468e-ac36-23f03fe06f49",
   "metadata": {},
   "outputs": [],
   "source": [
    "Q = Q[good_cols]"
   ]
  },
  {
   "cell_type": "code",
   "execution_count": 181,
   "id": "ef206249-64e2-4a17-97ac-8cc6de085df2",
   "metadata": {},
   "outputs": [],
   "source": [
    "ll = cartesianas2esfericas(Q['x_p'],Q['y_p'],Q['z_p'])\n",
    "ll.rename(columns={'Latitude':'Latitude_p', 'Longitude':'Longitude_p'},inplace=True)"
   ]
  },
  {
   "cell_type": "code",
   "execution_count": 182,
   "id": "1b263e9e-239b-4755-8784-d4f2048114b2",
   "metadata": {},
   "outputs": [],
   "source": [
    "Q = pd.concat([Q,ll],axis=1)"
   ]
  },
  {
   "cell_type": "code",
   "execution_count": 183,
   "id": "3b8da0f5-3418-48fe-a30b-95f129c12386",
   "metadata": {},
   "outputs": [],
   "source": [
    "malos = (Q['Latitude']/Q['Latitude_p'] < -0.9)\n",
    "Q.loc[malos,'Longitude_p'] = -Q['Longitude_p']\n",
    "Q.loc[malos,'Latitude_p'] = -Q['Latitude_p']"
   ]
  },
  {
   "cell_type": "code",
   "execution_count": 184,
   "id": "d37d06a0-1937-4dcf-9531-0a2d22fcf1c7",
   "metadata": {},
   "outputs": [],
   "source": [
    "Q.to_csv(\"data/prediccion_final_alpha.csv\",index=False)"
   ]
  },
  {
   "cell_type": "code",
   "execution_count": 185,
   "id": "efa15f1f-3b95-454a-baac-32d5fe200115",
   "metadata": {
    "tags": []
   },
   "outputs": [
    {
     "data": {
      "text/html": [
       "<div>\n",
       "<style scoped>\n",
       "    .dataframe tbody tr th:only-of-type {\n",
       "        vertical-align: middle;\n",
       "    }\n",
       "\n",
       "    .dataframe tbody tr th {\n",
       "        vertical-align: top;\n",
       "    }\n",
       "\n",
       "    .dataframe thead th {\n",
       "        text-align: right;\n",
       "    }\n",
       "</style>\n",
       "<table border=\"1\" class=\"dataframe\">\n",
       "  <thead>\n",
       "    <tr style=\"text-align: right;\">\n",
       "      <th></th>\n",
       "      <th>Latitude</th>\n",
       "      <th>Latitude_p</th>\n",
       "      <th>Longitude</th>\n",
       "      <th>Longitude_p</th>\n",
       "    </tr>\n",
       "  </thead>\n",
       "  <tbody>\n",
       "    <tr>\n",
       "      <th>0</th>\n",
       "      <td>41.015340</td>\n",
       "      <td>40.893646</td>\n",
       "      <td>-72.528080</td>\n",
       "      <td>-72.583992</td>\n",
       "    </tr>\n",
       "    <tr>\n",
       "      <th>1</th>\n",
       "      <td>64.490000</td>\n",
       "      <td>63.929321</td>\n",
       "      <td>-157.750000</td>\n",
       "      <td>-157.404282</td>\n",
       "    </tr>\n",
       "    <tr>\n",
       "      <th>2</th>\n",
       "      <td>41.841118</td>\n",
       "      <td>41.767914</td>\n",
       "      <td>-88.230357</td>\n",
       "      <td>-88.422165</td>\n",
       "    </tr>\n",
       "    <tr>\n",
       "      <th>3</th>\n",
       "      <td>64.490000</td>\n",
       "      <td>63.396515</td>\n",
       "      <td>-157.750000</td>\n",
       "      <td>-157.519135</td>\n",
       "    </tr>\n",
       "    <tr>\n",
       "      <th>4</th>\n",
       "      <td>41.840733</td>\n",
       "      <td>42.317719</td>\n",
       "      <td>-88.230357</td>\n",
       "      <td>-88.249924</td>\n",
       "    </tr>\n",
       "    <tr>\n",
       "      <th>...</th>\n",
       "      <td>...</td>\n",
       "      <td>...</td>\n",
       "      <td>...</td>\n",
       "      <td>...</td>\n",
       "    </tr>\n",
       "    <tr>\n",
       "      <th>156</th>\n",
       "      <td>35.117000</td>\n",
       "      <td>35.257767</td>\n",
       "      <td>138.937000</td>\n",
       "      <td>139.382278</td>\n",
       "    </tr>\n",
       "    <tr>\n",
       "      <th>157</th>\n",
       "      <td>20.086000</td>\n",
       "      <td>20.981232</td>\n",
       "      <td>-155.829000</td>\n",
       "      <td>-156.431061</td>\n",
       "    </tr>\n",
       "    <tr>\n",
       "      <th>158</th>\n",
       "      <td>68.596883</td>\n",
       "      <td>67.927139</td>\n",
       "      <td>-149.601250</td>\n",
       "      <td>-149.016159</td>\n",
       "    </tr>\n",
       "    <tr>\n",
       "      <th>159</th>\n",
       "      <td>9.160930</td>\n",
       "      <td>9.523247</td>\n",
       "      <td>-79.742700</td>\n",
       "      <td>-75.729225</td>\n",
       "    </tr>\n",
       "    <tr>\n",
       "      <th>160</th>\n",
       "      <td>35.117000</td>\n",
       "      <td>35.037697</td>\n",
       "      <td>138.937000</td>\n",
       "      <td>139.310013</td>\n",
       "    </tr>\n",
       "  </tbody>\n",
       "</table>\n",
       "<p>161 rows × 4 columns</p>\n",
       "</div>"
      ],
      "text/plain": [
       "      Latitude  Latitude_p   Longitude  Longitude_p\n",
       "0    41.015340   40.893646  -72.528080   -72.583992\n",
       "1    64.490000   63.929321 -157.750000  -157.404282\n",
       "2    41.841118   41.767914  -88.230357   -88.422165\n",
       "3    64.490000   63.396515 -157.750000  -157.519135\n",
       "4    41.840733   42.317719  -88.230357   -88.249924\n",
       "..         ...         ...         ...          ...\n",
       "156  35.117000   35.257767  138.937000   139.382278\n",
       "157  20.086000   20.981232 -155.829000  -156.431061\n",
       "158  68.596883   67.927139 -149.601250  -149.016159\n",
       "159   9.160930    9.523247  -79.742700   -75.729225\n",
       "160  35.117000   35.037697  138.937000   139.310013\n",
       "\n",
       "[161 rows x 4 columns]"
      ]
     },
     "execution_count": 185,
     "metadata": {},
     "output_type": "execute_result"
    }
   ],
   "source": [
    "Q[['Latitude','Latitude_p','Longitude','Longitude_p']]"
   ]
  },
  {
   "cell_type": "code",
   "execution_count": 188,
   "id": "36132ec1-6b1d-4dca-9022-cf310edd820b",
   "metadata": {},
   "outputs": [
    {
     "data": {
      "text/html": [
       "<div>\n",
       "<style scoped>\n",
       "    .dataframe tbody tr th:only-of-type {\n",
       "        vertical-align: middle;\n",
       "    }\n",
       "\n",
       "    .dataframe tbody tr th {\n",
       "        vertical-align: top;\n",
       "    }\n",
       "\n",
       "    .dataframe thead th {\n",
       "        text-align: right;\n",
       "    }\n",
       "</style>\n",
       "<table border=\"1\" class=\"dataframe\">\n",
       "  <thead>\n",
       "    <tr style=\"text-align: right;\">\n",
       "      <th></th>\n",
       "      <th>ECONAME</th>\n",
       "      <th>ECONAME_p</th>\n",
       "    </tr>\n",
       "  </thead>\n",
       "  <tbody>\n",
       "    <tr>\n",
       "      <th>10</th>\n",
       "      <td>Central and Southern Cascades forests</td>\n",
       "      <td>British Columbia mainland coastal forests</td>\n",
       "    </tr>\n",
       "    <tr>\n",
       "      <th>15</th>\n",
       "      <td>Southeast Australia temperate savanna</td>\n",
       "      <td>Southeast Australia temperate forests</td>\n",
       "    </tr>\n",
       "    <tr>\n",
       "      <th>16</th>\n",
       "      <td>Murray-Darling woodlands and mallee</td>\n",
       "      <td>Southeast Australia temperate savanna</td>\n",
       "    </tr>\n",
       "    <tr>\n",
       "      <th>40</th>\n",
       "      <td>Sierra Nevada forests</td>\n",
       "      <td>Colorado Rockies forests</td>\n",
       "    </tr>\n",
       "    <tr>\n",
       "      <th>76</th>\n",
       "      <td>Eastern Australian temperate forests</td>\n",
       "      <td>Southeast Australia temperate forests</td>\n",
       "    </tr>\n",
       "    <tr>\n",
       "      <th>98</th>\n",
       "      <td>Mid-Continental Canadian forests</td>\n",
       "      <td>Low Arctic tundra</td>\n",
       "    </tr>\n",
       "    <tr>\n",
       "      <th>101</th>\n",
       "      <td>Montana Valley and Foothill grasslands</td>\n",
       "      <td>Colorado Rockies forests</td>\n",
       "    </tr>\n",
       "    <tr>\n",
       "      <th>145</th>\n",
       "      <td>Low Arctic tundra</td>\n",
       "      <td>Interior Alaska-Yukon lowland taiga</td>\n",
       "    </tr>\n",
       "    <tr>\n",
       "      <th>153</th>\n",
       "      <td>Central and Southern mixed grasslands</td>\n",
       "      <td>Central tall grasslands</td>\n",
       "    </tr>\n",
       "  </tbody>\n",
       "</table>\n",
       "</div>"
      ],
      "text/plain": [
       "                                    ECONAME  \\\n",
       "10    Central and Southern Cascades forests   \n",
       "15    Southeast Australia temperate savanna   \n",
       "16      Murray-Darling woodlands and mallee   \n",
       "40                    Sierra Nevada forests   \n",
       "76     Eastern Australian temperate forests   \n",
       "98         Mid-Continental Canadian forests   \n",
       "101  Montana Valley and Foothill grasslands   \n",
       "145                       Low Arctic tundra   \n",
       "153   Central and Southern mixed grasslands   \n",
       "\n",
       "                                     ECONAME_p  \n",
       "10   British Columbia mainland coastal forests  \n",
       "15       Southeast Australia temperate forests  \n",
       "16       Southeast Australia temperate savanna  \n",
       "40                    Colorado Rockies forests  \n",
       "76       Southeast Australia temperate forests  \n",
       "98                           Low Arctic tundra  \n",
       "101                   Colorado Rockies forests  \n",
       "145        Interior Alaska-Yukon lowland taiga  \n",
       "153                    Central tall grasslands  "
      ]
     },
     "execution_count": 188,
     "metadata": {},
     "output_type": "execute_result"
    }
   ],
   "source": [
    "Q[Q['ECONAME'] != Q['ECONAME_p']][['ECONAME','ECONAME_p']]"
   ]
  },
  {
   "cell_type": "code",
   "execution_count": 191,
   "id": "f5bcf70f-9414-45bd-9b2a-d1a5fc6168c0",
   "metadata": {},
   "outputs": [
    {
     "data": {
      "text/html": [
       "<div>\n",
       "<style scoped>\n",
       "    .dataframe tbody tr th:only-of-type {\n",
       "        vertical-align: middle;\n",
       "    }\n",
       "\n",
       "    .dataframe tbody tr th {\n",
       "        vertical-align: top;\n",
       "    }\n",
       "\n",
       "    .dataframe thead th {\n",
       "        text-align: right;\n",
       "    }\n",
       "</style>\n",
       "<table border=\"1\" class=\"dataframe\">\n",
       "  <thead>\n",
       "    <tr style=\"text-align: right;\">\n",
       "      <th></th>\n",
       "      <th>BIOME</th>\n",
       "      <th>BIOME_p</th>\n",
       "      <th>ECONAME</th>\n",
       "      <th>ECONAME_p</th>\n",
       "    </tr>\n",
       "  </thead>\n",
       "  <tbody>\n",
       "    <tr>\n",
       "      <th>15</th>\n",
       "      <td>8.0</td>\n",
       "      <td>4.0</td>\n",
       "      <td>Southeast Australia temperate savanna</td>\n",
       "      <td>Southeast Australia temperate forests</td>\n",
       "    </tr>\n",
       "    <tr>\n",
       "      <th>16</th>\n",
       "      <td>12.0</td>\n",
       "      <td>8.0</td>\n",
       "      <td>Murray-Darling woodlands and mallee</td>\n",
       "      <td>Southeast Australia temperate savanna</td>\n",
       "    </tr>\n",
       "    <tr>\n",
       "      <th>98</th>\n",
       "      <td>6.0</td>\n",
       "      <td>11.0</td>\n",
       "      <td>Mid-Continental Canadian forests</td>\n",
       "      <td>Low Arctic tundra</td>\n",
       "    </tr>\n",
       "    <tr>\n",
       "      <th>101</th>\n",
       "      <td>8.0</td>\n",
       "      <td>5.0</td>\n",
       "      <td>Montana Valley and Foothill grasslands</td>\n",
       "      <td>Colorado Rockies forests</td>\n",
       "    </tr>\n",
       "    <tr>\n",
       "      <th>145</th>\n",
       "      <td>11.0</td>\n",
       "      <td>6.0</td>\n",
       "      <td>Low Arctic tundra</td>\n",
       "      <td>Interior Alaska-Yukon lowland taiga</td>\n",
       "    </tr>\n",
       "  </tbody>\n",
       "</table>\n",
       "</div>"
      ],
      "text/plain": [
       "    BIOME BIOME_p                                 ECONAME  \\\n",
       "15    8.0     4.0   Southeast Australia temperate savanna   \n",
       "16   12.0     8.0     Murray-Darling woodlands and mallee   \n",
       "98    6.0    11.0        Mid-Continental Canadian forests   \n",
       "101   8.0     5.0  Montana Valley and Foothill grasslands   \n",
       "145  11.0     6.0                       Low Arctic tundra   \n",
       "\n",
       "                                 ECONAME_p  \n",
       "15   Southeast Australia temperate forests  \n",
       "16   Southeast Australia temperate savanna  \n",
       "98                       Low Arctic tundra  \n",
       "101               Colorado Rockies forests  \n",
       "145    Interior Alaska-Yukon lowland taiga  "
      ]
     },
     "execution_count": 191,
     "metadata": {},
     "output_type": "execute_result"
    }
   ],
   "source": [
    "Q[Q['BIOME'] != Q['BIOME_p']][['BIOME','BIOME_p','ECONAME','ECONAME_p']]"
   ]
  },
  {
   "cell_type": "code",
   "execution_count": 192,
   "id": "bc4a1bd9-70ac-49b5-aec4-fc0f64ce4606",
   "metadata": {},
   "outputs": [
    {
     "data": {
      "text/html": [
       "<div>\n",
       "<style scoped>\n",
       "    .dataframe tbody tr th:only-of-type {\n",
       "        vertical-align: middle;\n",
       "    }\n",
       "\n",
       "    .dataframe tbody tr th {\n",
       "        vertical-align: top;\n",
       "    }\n",
       "\n",
       "    .dataframe thead th {\n",
       "        text-align: right;\n",
       "    }\n",
       "</style>\n",
       "<table border=\"1\" class=\"dataframe\">\n",
       "  <thead>\n",
       "    <tr style=\"text-align: right;\">\n",
       "      <th></th>\n",
       "      <th>BIOME</th>\n",
       "      <th>BIOME_p</th>\n",
       "      <th>ECONAME</th>\n",
       "      <th>ECONAME_p</th>\n",
       "    </tr>\n",
       "  </thead>\n",
       "  <tbody>\n",
       "    <tr>\n",
       "      <th>0</th>\n",
       "      <td>4.0</td>\n",
       "      <td>4.0</td>\n",
       "      <td>Northeastern coastal forests</td>\n",
       "      <td>Northeastern coastal forests</td>\n",
       "    </tr>\n",
       "    <tr>\n",
       "      <th>1</th>\n",
       "      <td>6.0</td>\n",
       "      <td>6.0</td>\n",
       "      <td>Interior Alaska-Yukon lowland taiga</td>\n",
       "      <td>Interior Alaska-Yukon lowland taiga</td>\n",
       "    </tr>\n",
       "    <tr>\n",
       "      <th>2</th>\n",
       "      <td>8.0</td>\n",
       "      <td>8.0</td>\n",
       "      <td>Central forest-grasslands transition</td>\n",
       "      <td>Central forest-grasslands transition</td>\n",
       "    </tr>\n",
       "    <tr>\n",
       "      <th>3</th>\n",
       "      <td>6.0</td>\n",
       "      <td>6.0</td>\n",
       "      <td>Interior Alaska-Yukon lowland taiga</td>\n",
       "      <td>Interior Alaska-Yukon lowland taiga</td>\n",
       "    </tr>\n",
       "    <tr>\n",
       "      <th>4</th>\n",
       "      <td>8.0</td>\n",
       "      <td>8.0</td>\n",
       "      <td>Central forest-grasslands transition</td>\n",
       "      <td>Central forest-grasslands transition</td>\n",
       "    </tr>\n",
       "    <tr>\n",
       "      <th>...</th>\n",
       "      <td>...</td>\n",
       "      <td>...</td>\n",
       "      <td>...</td>\n",
       "      <td>...</td>\n",
       "    </tr>\n",
       "    <tr>\n",
       "      <th>156</th>\n",
       "      <td>4.0</td>\n",
       "      <td>4.0</td>\n",
       "      <td>Taiheiyo evergreen forests</td>\n",
       "      <td>Taiheiyo evergreen forests</td>\n",
       "    </tr>\n",
       "    <tr>\n",
       "      <th>157</th>\n",
       "      <td>7.0</td>\n",
       "      <td>7.0</td>\n",
       "      <td>Hawaii tropical low shrublands</td>\n",
       "      <td>Hawaii tropical low shrublands</td>\n",
       "    </tr>\n",
       "    <tr>\n",
       "      <th>158</th>\n",
       "      <td>11.0</td>\n",
       "      <td>11.0</td>\n",
       "      <td>Brooks-British Range tundra</td>\n",
       "      <td>Brooks-British Range tundra</td>\n",
       "    </tr>\n",
       "    <tr>\n",
       "      <th>159</th>\n",
       "      <td>1.0</td>\n",
       "      <td>1.0</td>\n",
       "      <td>Isthmian-Atlantic moist forests</td>\n",
       "      <td>Isthmian-Atlantic moist forests</td>\n",
       "    </tr>\n",
       "    <tr>\n",
       "      <th>160</th>\n",
       "      <td>4.0</td>\n",
       "      <td>4.0</td>\n",
       "      <td>Taiheiyo evergreen forests</td>\n",
       "      <td>Taiheiyo evergreen forests</td>\n",
       "    </tr>\n",
       "  </tbody>\n",
       "</table>\n",
       "<p>161 rows × 4 columns</p>\n",
       "</div>"
      ],
      "text/plain": [
       "    BIOME BIOME_p                               ECONAME  \\\n",
       "0     4.0     4.0          Northeastern coastal forests   \n",
       "1     6.0     6.0   Interior Alaska-Yukon lowland taiga   \n",
       "2     8.0     8.0  Central forest-grasslands transition   \n",
       "3     6.0     6.0   Interior Alaska-Yukon lowland taiga   \n",
       "4     8.0     8.0  Central forest-grasslands transition   \n",
       "..    ...     ...                                   ...   \n",
       "156   4.0     4.0            Taiheiyo evergreen forests   \n",
       "157   7.0     7.0        Hawaii tropical low shrublands   \n",
       "158  11.0    11.0           Brooks-British Range tundra   \n",
       "159   1.0     1.0       Isthmian-Atlantic moist forests   \n",
       "160   4.0     4.0            Taiheiyo evergreen forests   \n",
       "\n",
       "                                ECONAME_p  \n",
       "0            Northeastern coastal forests  \n",
       "1     Interior Alaska-Yukon lowland taiga  \n",
       "2    Central forest-grasslands transition  \n",
       "3     Interior Alaska-Yukon lowland taiga  \n",
       "4    Central forest-grasslands transition  \n",
       "..                                    ...  \n",
       "156            Taiheiyo evergreen forests  \n",
       "157        Hawaii tropical low shrublands  \n",
       "158           Brooks-British Range tundra  \n",
       "159       Isthmian-Atlantic moist forests  \n",
       "160            Taiheiyo evergreen forests  \n",
       "\n",
       "[161 rows x 4 columns]"
      ]
     },
     "execution_count": 192,
     "metadata": {},
     "output_type": "execute_result"
    }
   ],
   "source": [
    "Q[['BIOME','BIOME_p','ECONAME','ECONAME_p']]"
   ]
  },
  {
   "cell_type": "code",
   "execution_count": 189,
   "id": "adcb707a-bbd0-43a1-baad-4f1da044f674",
   "metadata": {},
   "outputs": [
    {
     "data": {
      "text/plain": [
       "0.062111801242236024"
      ]
     },
     "execution_count": 189,
     "metadata": {},
     "output_type": "execute_result"
    }
   ],
   "source": [
    "10/161"
   ]
  },
  {
   "cell_type": "code",
   "execution_count": 193,
   "id": "cc62fe35-63dd-42fd-a521-77255a937d4b",
   "metadata": {},
   "outputs": [
    {
     "data": {
      "text/plain": [
       "TabularModel(\n",
       "  (embeds): ModuleList()\n",
       "  (emb_drop): Dropout(p=0.0, inplace=False)\n",
       "  (bn_cont): Sequential(\n",
       "    (0): Noiser()\n",
       "    (1): BatchNorm1d(905, eps=1e-05, momentum=0.1, affine=True, track_running_stats=True)\n",
       "  )\n",
       "  (layers): Sequential(\n",
       "    (0): Linear(in_features=905, out_features=768, bias=False)\n",
       "    (1): BatchNorm1d(768, eps=1e-05, momentum=0.1, affine=True, track_running_stats=True)\n",
       "    (2): CELU(alpha=1.0)\n",
       "    (3): ResLinear(\n",
       "      (res): Sequential(\n",
       "        (0): Linear(in_features=768, out_features=384, bias=True)\n",
       "        (1): LeakyReLU(negative_slope=0.01)\n",
       "        (2): Linear(in_features=384, out_features=384, bias=True)\n",
       "        (3): BatchNorm1d(384, eps=1e-05, momentum=0.1, affine=True, track_running_stats=True)\n",
       "        (4): LeakyReLU(negative_slope=0.01)\n",
       "        (5): Linear(in_features=384, out_features=768, bias=True)\n",
       "        (6): BatchNorm1d(768, eps=1e-05, momentum=0.1, affine=True, track_running_stats=True)\n",
       "      )\n",
       "    )\n",
       "    (4): BatchNorm1d(768, eps=1e-05, momentum=0.1, affine=True, track_running_stats=True)\n",
       "    (5): CELU(alpha=1.0)\n",
       "    (6): Linear(in_features=768, out_features=896, bias=True)\n",
       "    (7): BatchNorm1d(896, eps=1e-05, momentum=0.1, affine=True, track_running_stats=True)\n",
       "    (8): CELU(alpha=1.0)\n",
       "    (9): ResLinear(\n",
       "      (res): Sequential(\n",
       "        (0): Linear(in_features=896, out_features=448, bias=True)\n",
       "        (1): LeakyReLU(negative_slope=0.01)\n",
       "        (2): Linear(in_features=448, out_features=448, bias=True)\n",
       "        (3): BatchNorm1d(448, eps=1e-05, momentum=0.1, affine=True, track_running_stats=True)\n",
       "        (4): LeakyReLU(negative_slope=0.01)\n",
       "        (5): Linear(in_features=448, out_features=896, bias=True)\n",
       "        (6): BatchNorm1d(896, eps=1e-05, momentum=0.1, affine=True, track_running_stats=True)\n",
       "      )\n",
       "    )\n",
       "    (10): BatchNorm1d(896, eps=1e-05, momentum=0.1, affine=True, track_running_stats=True)\n",
       "    (11): CELU(alpha=1.0)\n",
       "    (12): ResLinear(\n",
       "      (res): Sequential(\n",
       "        (0): Linear(in_features=896, out_features=448, bias=True)\n",
       "        (1): LeakyReLU(negative_slope=0.01)\n",
       "        (2): Linear(in_features=448, out_features=448, bias=True)\n",
       "        (3): BatchNorm1d(448, eps=1e-05, momentum=0.1, affine=True, track_running_stats=True)\n",
       "        (4): LeakyReLU(negative_slope=0.01)\n",
       "        (5): Linear(in_features=448, out_features=896, bias=True)\n",
       "        (6): BatchNorm1d(896, eps=1e-05, momentum=0.1, affine=True, track_running_stats=True)\n",
       "      )\n",
       "    )\n",
       "    (13): BatchNorm1d(896, eps=1e-05, momentum=0.1, affine=True, track_running_stats=True)\n",
       "    (14): CELU(alpha=1.0)\n",
       "    (15): ResLinear(\n",
       "      (res): Sequential(\n",
       "        (0): Linear(in_features=896, out_features=448, bias=True)\n",
       "        (1): LeakyReLU(negative_slope=0.01)\n",
       "        (2): Linear(in_features=448, out_features=448, bias=True)\n",
       "        (3): BatchNorm1d(448, eps=1e-05, momentum=0.1, affine=True, track_running_stats=True)\n",
       "        (4): LeakyReLU(negative_slope=0.01)\n",
       "        (5): Linear(in_features=448, out_features=896, bias=True)\n",
       "        (6): BatchNorm1d(896, eps=1e-05, momentum=0.1, affine=True, track_running_stats=True)\n",
       "      )\n",
       "    )\n",
       "    (16): BatchNorm1d(896, eps=1e-05, momentum=0.1, affine=True, track_running_stats=True)\n",
       "    (17): CELU(alpha=1.0)\n",
       "    (18): Linear(in_features=896, out_features=142, bias=True)\n",
       "  )\n",
       ")"
      ]
     },
     "execution_count": 193,
     "metadata": {},
     "output_type": "execute_result"
    }
   ],
   "source": [
    "learn.model"
   ]
  },
  {
   "cell_type": "code",
   "execution_count": null,
   "id": "d860ec62-07fb-4c7f-8de3-62393b7271be",
   "metadata": {},
   "outputs": [],
   "source": []
  },
  {
   "cell_type": "code",
   "execution_count": null,
   "id": "c4034add-aefc-4eed-a93d-ee10ee08a9f3",
   "metadata": {},
   "outputs": [],
   "source": []
  },
  {
   "cell_type": "code",
   "execution_count": null,
   "id": "f61a0445-51a1-4da8-8f61-14cbaf899894",
   "metadata": {},
   "outputs": [],
   "source": []
  },
  {
   "cell_type": "code",
   "execution_count": null,
   "id": "3a0f679a-7579-4d47-ae65-33feb787f0df",
   "metadata": {},
   "outputs": [],
   "source": []
  },
  {
   "cell_type": "code",
   "execution_count": null,
   "id": "bcdc6384-34f7-4b58-ae9a-5a7f6a6317ed",
   "metadata": {},
   "outputs": [],
   "source": []
  },
  {
   "cell_type": "code",
   "execution_count": null,
   "id": "924b4ddb-23d8-41d2-a2e2-475e3ecbb8aa",
   "metadata": {},
   "outputs": [],
   "source": []
  },
  {
   "cell_type": "code",
   "execution_count": null,
   "id": "f16d54e3-e29f-4c37-89d8-f5edad02766a",
   "metadata": {},
   "outputs": [],
   "source": []
  },
  {
   "cell_type": "code",
   "execution_count": null,
   "id": "dec866f3-5f9e-4960-8971-a3bba5f45119",
   "metadata": {},
   "outputs": [],
   "source": []
  },
  {
   "cell_type": "code",
   "execution_count": null,
   "id": "2238131c-b4c7-4c16-b6f3-55691827340c",
   "metadata": {},
   "outputs": [],
   "source": []
  }
 ],
 "metadata": {
  "kernelspec": {
   "display_name": "Python 3 (ipykernel)",
   "language": "python",
   "name": "python3"
  },
  "language_info": {
   "codemirror_mode": {
    "name": "ipython",
    "version": 3
   },
   "file_extension": ".py",
   "mimetype": "text/x-python",
   "name": "python",
   "nbconvert_exporter": "python",
   "pygments_lexer": "ipython3",
   "version": "3.10.4"
  }
 },
 "nbformat": 4,
 "nbformat_minor": 5
}
